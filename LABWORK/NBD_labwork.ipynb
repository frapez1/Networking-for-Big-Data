{
  "nbformat": 4,
  "nbformat_minor": 0,
  "metadata": {
    "colab": {
      "name": "NBD_project.ipynb",
      "provenance": [],
      "collapsed_sections": [
        "woK57CNVU7t5",
        "2WDrBqPnUyXj",
        "4E1gFa64U2qT",
        "7qTG_1yHXsFH",
        "aqkD1QCbY-S4",
        "XOJAdvIxbSCw",
        "McndA0V-fZgn",
        "J0XeBqesffyd",
        "_p3ZEx6_iIpq",
        "ukGDZadKoRd4",
        "vD9EjedAoW63",
        "uAkJSFNir5vf",
        "lIxEscR0tBlW",
        "EmxGz3QwtG_p",
        "W6aKyyD6tUmJ",
        "YqG0EUZpbUUP",
        "S0IIngtJhOM7",
        "wZFAltWvrWJn"
      ]
    },
    "kernelspec": {
      "name": "python3",
      "display_name": "Python 3"
    }
  },
  "cells": [
    {
      "cell_type": "markdown",
      "metadata": {
        "id": "fWVgycP-KVSq",
        "colab_type": "text"
      },
      "source": [
        "#NBD PROJECT\n",
        "\n",
        "\n",
        "**Francesco Pezone** 1913202\\\n",
        "**Alessio Sampieri** 1765522\\\n",
        "**Lucia Testa** 1764018"
      ]
    },
    {
      "cell_type": "markdown",
      "metadata": {
        "id": "woK57CNVU7t5",
        "colab_type": "text"
      },
      "source": [
        "# Connect to GDrive and import\n"
      ]
    },
    {
      "cell_type": "code",
      "metadata": {
        "id": "NAgn0JNliQJh",
        "colab_type": "code",
        "colab": {
          "base_uri": "https://localhost:8080/",
          "height": 124
        },
        "outputId": "b61cc362-bec6-49fb-c5d5-8684c8a2d275"
      },
      "source": [
        "from google.colab import drive\n",
        "drive.mount('/content/drive')"
      ],
      "execution_count": 1,
      "outputs": [
        {
          "output_type": "stream",
          "text": [
            "Go to this URL in a browser: https://accounts.google.com/o/oauth2/auth?client_id=947318989803-6bn6qk8qdgf4n4g3pfee6491hc0brc4i.apps.googleusercontent.com&redirect_uri=urn%3aietf%3awg%3aoauth%3a2.0%3aoob&response_type=code&scope=email%20https%3a%2f%2fwww.googleapis.com%2fauth%2fdocs.test%20https%3a%2f%2fwww.googleapis.com%2fauth%2fdrive%20https%3a%2f%2fwww.googleapis.com%2fauth%2fdrive.photos.readonly%20https%3a%2f%2fwww.googleapis.com%2fauth%2fpeopleapi.readonly\n",
            "\n",
            "Enter your authorization code:\n",
            "··········\n",
            "Mounted at /content/drive\n"
          ],
          "name": "stdout"
        }
      ]
    },
    {
      "cell_type": "code",
      "metadata": {
        "id": "bZnTTo_sjStV",
        "colab_type": "code",
        "colab": {}
      },
      "source": [
        "try:\n",
        "  import pyshark\n",
        "except:\n",
        "  !pip install pyshark\n",
        "  import pyshark\n",
        "\n",
        "!apt-get install -y tshark\n",
        "!apt-get install tcpdump\n",
        "!apt-get install tcpflow\n",
        "!apt-get install gzip\n",
        "import pickle\n",
        "import os\n",
        "from collections import Counter\n",
        "import time\n",
        "import numpy as np\n",
        "import matplotlib.pyplot as plt\n",
        "from datetime import datetime\n",
        "import pandas as pd\n",
        "\n",
        "# function to identify the upper value for the outliers\n",
        "def Find_out(data):\n",
        "  dataset = sorted(data)\n",
        "  q1, q3= np.percentile(dataset,[25,75])\n",
        "  iqr = q3 - q1\n",
        "  upper_bound = q3 +(1.5 * iqr) \n",
        "  return (upper_bound)\n"
      ],
      "execution_count": 2,
      "outputs": []
    },
    {
      "cell_type": "markdown",
      "metadata": {
        "id": "2WDrBqPnUyXj",
        "colab_type": "text"
      },
      "source": [
        "# PCAP file"
      ]
    },
    {
      "cell_type": "markdown",
      "metadata": {
        "id": "4E1gFa64U2qT",
        "colab_type": "text"
      },
      "source": [
        "## Download and unzip"
      ]
    },
    {
      "cell_type": "code",
      "metadata": {
        "id": "L5FgrsrXUv57",
        "colab_type": "code",
        "colab": {}
      },
      "source": [
        "# move into the directory\n",
        "os.chdir('/content/drive/My Drive/NBDLab/data/Pcap_originale')"
      ],
      "execution_count": null,
      "outputs": []
    },
    {
      "cell_type": "code",
      "metadata": {
        "id": "yqN7yrCzXEMt",
        "colab_type": "code",
        "colab": {}
      },
      "source": [
        "# download\n",
        "!wget http://mawi.nezu.wide.ad.jp/mawi/samplepoint-G/2020/202004221400.pcap.gz"
      ],
      "execution_count": null,
      "outputs": []
    },
    {
      "cell_type": "code",
      "metadata": {
        "id": "jZR5MqhnXHT4",
        "colab_type": "code",
        "colab": {}
      },
      "source": [
        "# unzip\n",
        "! gzip -d data/202004221400.pcap.gz"
      ],
      "execution_count": null,
      "outputs": []
    },
    {
      "cell_type": "markdown",
      "metadata": {
        "id": "7qTG_1yHXsFH",
        "colab_type": "text"
      },
      "source": [
        "## Split in smaller chunks"
      ]
    },
    {
      "cell_type": "code",
      "metadata": {
        "id": "03N0eOLIXwha",
        "colab_type": "code",
        "colab": {}
      },
      "source": [
        "os.chdir('/content/drive/My Drive/NBDLab/data')"
      ],
      "execution_count": null,
      "outputs": []
    },
    {
      "cell_type": "code",
      "metadata": {
        "id": "GzsuDgV5X-Sl",
        "colab_type": "code",
        "colab": {}
      },
      "source": [
        "# split it in 30 second chunks\n",
        "! editcap -F pcap -i 30 Pcap_originale/202004221400.pcap split/traffic_traces-30s.pcap"
      ],
      "execution_count": null,
      "outputs": []
    },
    {
      "cell_type": "markdown",
      "metadata": {
        "id": "aqkD1QCbY-S4",
        "colab_type": "text"
      },
      "source": [
        "## Save only usefull informations\n",
        "\n",
        "We are going to create, for each of the first four 30 seconds traces, 5 differents .csv files.\n",
        "\n",
        "### TCP and IPv4\n",
        "We are going to save the 5 infos usefull to determine a flow plus the frame length, the relative time (wrt the firs packet) and the window size\n",
        "\n",
        "### TCP and IPv6\n",
        "Like for the other TCP\n",
        "\n",
        "### UDP and IPv4\n",
        "We are going to save the 5 infos usefull to determine a flow plus the frame length, the relative time (wrt the firs packet)\n",
        "\n",
        "### UDP and IPv6\n",
        "Like for the other UDP\n",
        "\n",
        "### Neither TCP nor UDP\n",
        "the relative time (wrt the firs packet), the type of protocol, both the IP and the frame length\n"
      ]
    },
    {
      "cell_type": "code",
      "metadata": {
        "id": "4k2ruBizZSQ4",
        "colab_type": "code",
        "colab": {}
      },
      "source": [
        "os.chdir('/content/drive/My Drive/NBDLab/data/split')"
      ],
      "execution_count": null,
      "outputs": []
    },
    {
      "cell_type": "code",
      "metadata": {
        "id": "aSmE8TaCY9hT",
        "colab_type": "code",
        "colab": {}
      },
      "source": [
        "# file 0\n",
        "s = time.time()\n",
        "!tshark -r traffic_traces_30s_00000_20200422051000.pcap -Y '(tcp)&&(ip.version == 4)' -T fields -e frame.time_relative -e ip.proto -e ip.src -e ip.dst -e tcp.srcport -e tcp.dstport -e frame.len -e tcp.window_size -E quote=d -E header=y -E separator=, -E occurrence=f > csv_finali/0_tcp_ipv4.csv\n",
        "!tshark -r traffic_traces_30s_00000_20200422051000.pcap -Y '(tcp)&&(ip.version == 6)' -T fields -e frame.time_relative -e ip.proto -e ipv6.src -e ipv6.dst -e tcp.srcport -e tcp.dstport -e frame.len -e tcp.window_size -E quote=d -E header=y -E separator=, -E occurrence=f > csv_finali/0_tcp_ipv6.csv\n",
        "!tshark -r traffic_traces_30s_00000_20200422051000.pcap -Y '(udp)&&(ip.version == 4)' -T fields -e frame.time_relative -e ip.proto -e ip.src -e ip.dst -e udp.srcport -e udp.dstport -e frame.len -E quote=d -E header=y -E separator=, -E occurrence=f > csv_finali/0_udp_ipv4.csv\n",
        "!tshark -r traffic_traces_30s_00000_20200422051000.pcap -Y '(udp)&&(ip.version == 6)' -T fields -e frame.time_relative -e ip.proto -e ip.src -e ip.dst -e udp.srcport -e udp.dstport -e frame.len -E quote=d -E header=y -E separator=, -E occurrence=f > csv_finali/0_udp_ipv6.csv\n",
        "!tshark -r traffic_traces_30s_00000_20200422051000.pcap -Y '!(tcp)&&!(udp)' -T fields -e frame.time_relative -e _ws.col.Protocol -e ip.src -e ip.dst -e frame.len -E quote=d -E header=y -E separator=, -E occurrence=f > csv_finali/0_others.csv\n",
        "\n",
        "print('file 0 in ',(time.time()- s)//60)\n",
        "# file 1\n",
        "!tshark -r traffic_traces_30s_00001_20200422051030.pcap -Y '(tcp)&&(ip.version == 4)' -T fields -e frame.time_relative -e ip.proto -e ip.src -e ip.dst -e tcp.srcport -e tcp.dstport -e frame.len -e tcp.window_size -E quote=d -E header=y -E separator=, -E occurrence=f > csv_finali/1_tcp_ipv4.csv\n",
        "!tshark -r traffic_traces_30s_00001_20200422051030.pcap -Y '(tcp)&&(ip.version == 6)' -T fields -e frame.time_relative -e ip.proto -e ipv6.src -e ipv6.dst -e tcp.srcport -e tcp.dstport -e frame.len -e tcp.window_size -E quote=d -E header=y -E separator=, -E occurrence=f > csv_finali/1_tcp_ipv6.csv\n",
        "!tshark -r traffic_traces_30s_00001_20200422051030.pcap -Y '(udp)&&(ip.version == 4)' -T fields -e frame.time_relative -e ip.proto -e ip.src -e ip.dst -e udp.srcport -e udp.dstport -e frame.len -E quote=d -E header=y -E separator=, -E occurrence=f > csv_finali/1_udp_ipv4.csv\n",
        "!tshark -r traffic_traces_30s_00001_20200422051030.pcap -Y '(udp)&&(ip.version == 6)' -T fields -e frame.time_relative -e ip.proto -e ip.src -e ip.dst -e udp.srcport -e udp.dstport -e frame.len -E quote=d -E header=y -E separator=, -E occurrence=f > csv_finali/1_udp_ipv6.csv\n",
        "!tshark -r traffic_traces_30s_00001_20200422051030.pcap -Y '!(tcp)&&!(udp)' -T fields -e frame.time_relative -e _ws.col.Protocol -e ip.src -e ip.dst -e frame.len -E quote=d -E header=y -E separator=, -E occurrence=f > csv_finali/1_others.csv\n",
        "\n",
        "print('file 1 in ',(time.time()- s)//60)\n",
        "# file 2\n",
        "!tshark -r traffic_traces_30s_00002_20200422051100.pcap -Y '(tcp)&&(ip.version == 4)' -T fields -e frame.time_relative -e ip.proto -e ip.src -e ip.dst -e tcp.srcport -e tcp.dstport -e frame.len -e tcp.window_size -E quote=d -E header=y -E separator=, -E occurrence=f > csv_finali/2_tcp_ipv4.csv\n",
        "!tshark -r traffic_traces_30s_00002_20200422051100.pcap -Y '(tcp)&&(ip.version == 6)' -T fields -e frame.time_relative -e ip.proto -e ipv6.src -e ipv6.dst -e tcp.srcport -e tcp.dstport -e frame.len -e tcp.window_size -E quote=d -E header=y -E separator=, -E occurrence=f > csv_finali/2_tcp_ipv6.csv\n",
        "!tshark -r traffic_traces_30s_00002_20200422051100.pcap -Y '(udp)&&(ip.version == 4)' -T fields -e frame.time_relative -e ip.proto -e ip.src -e ip.dst -e udp.srcport -e udp.dstport -e frame.len -E quote=d -E header=y -E separator=, -E occurrence=f > csv_finali/2_udp_ipv4.csv\n",
        "!tshark -r traffic_traces_30s_00002_20200422051100.pcap -Y '(udp)&&(ip.version == 6)' -T fields -e frame.time_relative -e ip.proto -e ip.src -e ip.dst -e udp.srcport -e udp.dstport -e frame.len -E quote=d -E header=y -E separator=, -E occurrence=f > csv_finali/2_udp_ipv6.csv\n",
        "!tshark -r traffic_traces_30s_00002_20200422051100.pcap -Y '!(tcp)&&!(udp)' -T fields -e frame.time_relative -e _ws.col.Protocol -e ip.src -e ip.dst -e frame.len -E quote=d -E header=y -E separator=, -E occurrence=f > csv_finali/2_others.csv\n",
        "\n",
        "print('file 2 in ',(time.time()- s)//60)\n",
        "# file 3\n",
        "!tshark -r traffic_traces_30s_00003_20200422051130.pcap -Y '(tcp)&&(ip.version == 4)' -T fields -e frame.time_relative -e ip.proto -e ip.src -e ip.dst -e tcp.srcport -e tcp.dstport -e frame.len -e tcp.window_size -E quote=d -E header=y -E separator=, -E occurrence=f > csv_finali/3_tcp_ipv4.csv\n",
        "!tshark -r traffic_traces_30s_00003_20200422051130.pcap -Y '(tcp)&&(ip.version == 6)' -T fields -e frame.time_relative -e ip.proto -e ipv6.src -e ipv6.dst -e tcp.srcport -e tcp.dstport -e frame.len -e tcp.window_size -E quote=d -E header=y -E separator=, -E occurrence=f > csv_finali/3_tcp_ipv6.csv\n",
        "!tshark -r traffic_traces_30s_00003_20200422051130.pcap -Y '(udp)&&(ip.version == 4)' -T fields -e frame.time_relative -e ip.proto -e ip.src -e ip.dst -e udp.srcport -e udp.dstport -e frame.len -E quote=d -E header=y -E separator=, -E occurrence=f > csv_finali/3_udp_ipv4.csv\n",
        "!tshark -r traffic_traces_30s_00003_20200422051130.pcap -Y '(udp)&&(ip.version == 6)' -T fields -e frame.time_relative -e ip.proto -e ip.src -e ip.dst -e udp.srcport -e udp.dstport -e frame.len -E quote=d -E header=y -E separator=, -E occurrence=f > csv_finali/3_udp_ipv6.csv\n",
        "!tshark -r traffic_traces_30s_00003_20200422051130.pcap -Y '!(tcp)&&!(udp)' -T fields -e frame.time_relative -e _ws.col.Protocol -e ip.src -e ip.dst -e frame.len -E quote=d -E header=y -E separator=, -E occurrence=f > csv_finali/3_others.csv\n",
        "\n",
        "print('file 3 in ',(time.time()- s)//60)"
      ],
      "execution_count": null,
      "outputs": []
    },
    {
      "cell_type": "markdown",
      "metadata": {
        "id": "XOJAdvIxbSCw",
        "colab_type": "text"
      },
      "source": [
        "# Part 1) "
      ]
    },
    {
      "cell_type": "markdown",
      "metadata": {
        "id": "McndA0V-fZgn",
        "colab_type": "text"
      },
      "source": [
        "### Read TCP and UDP .csv\n"
      ]
    },
    {
      "cell_type": "code",
      "metadata": {
        "id": "xFRNH6y5bShK",
        "colab_type": "code",
        "colab": {
          "base_uri": "https://localhost:8080/",
          "height": 624
        },
        "outputId": "e2f2537b-ce07-400d-97a8-4b3ad1803b91"
      },
      "source": [
        "# a list to store both TCP and UDP packete dataframe\n",
        "DF = []\n",
        "DF_single_type = []\n",
        "\n",
        "start = time.time()\n",
        "# choose TCP or UDP\n",
        "for s in ['tcp', 'udp']:\n",
        "  \n",
        "  # Choose de IP version\n",
        "  for m in [4, 6]:\n",
        "    \n",
        "    \n",
        "    # choose the number of chunks to analyze\n",
        "    for j in range(4):\n",
        "      print(s,m,j,time.time()-start)\n",
        "      \n",
        "      # read the .csv\n",
        "      df = pd.read_csv('/content/drive/My Drive/NBDLab/data/split/csv_finali/'+str(j)+'_'+s+'_ipv'+str(m)+'.csv')\n",
        "    \n",
        "      # add the right amount of seconds\n",
        "      df['frame.time_relative'] = df['frame.time_relative'] + 30*j\n",
        "    \n",
        "      # since <m> is the ip we can drop this column\n",
        "      df = df.drop(columns = ['ip.proto'])\n",
        "      df['ip.proto'] = [s]*len(df)\n",
        "      df['ip_ver'] = [m]*len(df)\n",
        "    \n",
        "      # renamining the column of IPv6\n",
        "      if m == 6:\n",
        "        df.rename(columns={'ipv6.src':'ip.src', 'ipv6.dst':'ip.dst'}, inplace=True)\n",
        "      print('letto')\n",
        "      DF_single_type.append(df)\n",
        "  print(time.time()-start)\n",
        "  # concatenate all the dataframes\n",
        "  DF.append(pd.concat(DF_single_type))\n",
        "\n",
        "  # free up memory space\n",
        "  DF_single_type = []\n",
        "print(time.time()-start)"
      ],
      "execution_count": 3,
      "outputs": [
        {
          "output_type": "stream",
          "text": [
            "tcp 4 0 0.00016641616821289062\n",
            "letto\n",
            "tcp 4 1 25.038366317749023\n",
            "letto\n",
            "tcp 4 2 44.192065715789795\n",
            "letto\n",
            "tcp 4 3 66.98282814025879\n",
            "letto\n",
            "tcp 6 0 88.2158875465393\n",
            "letto\n",
            "tcp 6 1 91.8045482635498\n",
            "letto\n",
            "tcp 6 2 97.2426061630249\n",
            "letto\n",
            "tcp 6 3 101.0349440574646\n",
            "letto\n",
            "104.70706725120544\n",
            "udp 4 0 116.52885460853577\n",
            "letto\n",
            "udp 4 1 119.14893054962158\n",
            "letto\n",
            "udp 4 2 122.00500130653381\n",
            "letto\n",
            "udp 4 3 124.86568832397461\n",
            "letto\n",
            "udp 6 0 127.8864107131958\n",
            "letto\n",
            "udp 6 1 128.28403568267822\n",
            "letto\n",
            "udp 6 2 128.88301920890808\n",
            "letto\n",
            "udp 6 3 129.40862345695496\n",
            "letto\n",
            "129.90172910690308\n",
            "130.93988633155823\n"
          ],
          "name": "stdout"
        }
      ]
    },
    {
      "cell_type": "markdown",
      "metadata": {
        "id": "J0XeBqesffyd",
        "colab_type": "text"
      },
      "source": [
        "### From packets to flows"
      ]
    },
    {
      "cell_type": "code",
      "metadata": {
        "id": "j-3OdVGcfufq",
        "colab_type": "code",
        "colab": {}
      },
      "source": [
        "# new list of dataframes\n",
        "DF_flows = []\n",
        "\n",
        "\n",
        "t_u = ['TCP', 'UDP']\n",
        "\n",
        "# how characterize a flow\n",
        "Flows_char = {'TCP' : ['ip.src', 'ip.dst', 'ip.proto', 'tcp.srcport',\t'tcp.dstport'],\n",
        "              'UDP' : ['ip.src', 'ip.dst', 'ip.proto', 'udp.srcport',\t'udp.dstport']}\n",
        "# TCP and UDP\n",
        "for i in range(len(t_u)):\n",
        "  DF_flows.append(DF[i].groupby(Flows_char[t_u[i]]).agg({'frame.time_relative':['min', 'max'], \n",
        "                          'frame.len' : ['sum','count'], 'ip_ver' : 'mean'}))\n",
        "  DF_flows[i].columns = DF_flows[i].columns.droplevel()\n",
        "  # save the duration of each flow\n",
        "  DF_flows[i]['time'] = DF_flows[i]['max']-DF_flows[i]['min']\n",
        "  DF_flows[i] = DF_flows[i].drop(columns = ['max','min'])\n",
        "  DF_flows[i].columns = ['flow_size', 'num_pk', 'ip_ver', 'flow_duration']\n",
        "\n",
        "\n"
      ],
      "execution_count": 4,
      "outputs": []
    },
    {
      "cell_type": "code",
      "metadata": {
        "id": "0Om55vLmMWF4",
        "colab_type": "code",
        "colab": {
          "base_uri": "https://localhost:8080/",
          "height": 233
        },
        "outputId": "ee856192-eff1-441d-c1a1-9de8f834fefa"
      },
      "source": [
        "DF_flows[0].head()"
      ],
      "execution_count": null,
      "outputs": [
        {
          "output_type": "execute_result",
          "data": {
            "text/html": [
              "<div>\n",
              "<style scoped>\n",
              "    .dataframe tbody tr th:only-of-type {\n",
              "        vertical-align: middle;\n",
              "    }\n",
              "\n",
              "    .dataframe tbody tr th {\n",
              "        vertical-align: top;\n",
              "    }\n",
              "\n",
              "    .dataframe thead th {\n",
              "        text-align: right;\n",
              "    }\n",
              "</style>\n",
              "<table border=\"1\" class=\"dataframe\">\n",
              "  <thead>\n",
              "    <tr style=\"text-align: right;\">\n",
              "      <th></th>\n",
              "      <th></th>\n",
              "      <th></th>\n",
              "      <th></th>\n",
              "      <th></th>\n",
              "      <th>flow_size</th>\n",
              "      <th>num_pk</th>\n",
              "      <th>ip_ver</th>\n",
              "      <th>flow_duration</th>\n",
              "    </tr>\n",
              "    <tr>\n",
              "      <th>ip.src</th>\n",
              "      <th>ip.dst</th>\n",
              "      <th>ip.proto</th>\n",
              "      <th>tcp.srcport</th>\n",
              "      <th>tcp.dstport</th>\n",
              "      <th></th>\n",
              "      <th></th>\n",
              "      <th></th>\n",
              "      <th></th>\n",
              "    </tr>\n",
              "  </thead>\n",
              "  <tbody>\n",
              "    <tr>\n",
              "      <th rowspan=\"2\" valign=\"top\">1.114.234.173</th>\n",
              "      <th>202.23.221.83</th>\n",
              "      <th>tcp</th>\n",
              "      <th>63192</th>\n",
              "      <th>26</th>\n",
              "      <td>108</td>\n",
              "      <td>2</td>\n",
              "      <td>4</td>\n",
              "      <td>1.000000e-06</td>\n",
              "    </tr>\n",
              "    <tr>\n",
              "      <th>202.23.222.39</th>\n",
              "      <th>tcp</th>\n",
              "      <th>63192</th>\n",
              "      <th>23</th>\n",
              "      <td>108</td>\n",
              "      <td>2</td>\n",
              "      <td>4</td>\n",
              "      <td>2.000000e-06</td>\n",
              "    </tr>\n",
              "    <tr>\n",
              "      <th>1.114.236.173</th>\n",
              "      <th>202.23.222.27</th>\n",
              "      <th>tcp</th>\n",
              "      <th>16143</th>\n",
              "      <th>23</th>\n",
              "      <td>216</td>\n",
              "      <td>4</td>\n",
              "      <td>4</td>\n",
              "      <td>2.121500e-02</td>\n",
              "    </tr>\n",
              "    <tr>\n",
              "      <th>1.125.100.28</th>\n",
              "      <th>202.23.220.95</th>\n",
              "      <th>tcp</th>\n",
              "      <th>32179</th>\n",
              "      <th>23</th>\n",
              "      <td>108</td>\n",
              "      <td>2</td>\n",
              "      <td>4</td>\n",
              "      <td>1.000000e-06</td>\n",
              "    </tr>\n",
              "    <tr>\n",
              "      <th>1.134.26.1</th>\n",
              "      <th>202.23.223.45</th>\n",
              "      <th>tcp</th>\n",
              "      <th>443</th>\n",
              "      <th>60348</th>\n",
              "      <td>864</td>\n",
              "      <td>16</td>\n",
              "      <td>4</td>\n",
              "      <td>1.065509e+02</td>\n",
              "    </tr>\n",
              "  </tbody>\n",
              "</table>\n",
              "</div>"
            ],
            "text/plain": [
              "                                                              flow_size  ...  flow_duration\n",
              "ip.src        ip.dst        ip.proto tcp.srcport tcp.dstport             ...               \n",
              "1.114.234.173 202.23.221.83 tcp      63192       26                 108  ...   1.000000e-06\n",
              "              202.23.222.39 tcp      63192       23                 108  ...   2.000000e-06\n",
              "1.114.236.173 202.23.222.27 tcp      16143       23                 216  ...   2.121500e-02\n",
              "1.125.100.28  202.23.220.95 tcp      32179       23                 108  ...   1.000000e-06\n",
              "1.134.26.1    202.23.223.45 tcp      443         60348              864  ...   1.065509e+02\n",
              "\n",
              "[5 rows x 4 columns]"
            ]
          },
          "metadata": {
            "tags": []
          },
          "execution_count": 15
        }
      ]
    },
    {
      "cell_type": "code",
      "metadata": {
        "id": "BU5i8FxcdvG2",
        "colab_type": "code",
        "colab": {
          "base_uri": "https://localhost:8080/",
          "height": 104
        },
        "outputId": "c94d1649-5d32-4579-dcce-f8172814652f"
      },
      "source": [
        "# how select a giver row with multiindex\n",
        "# DF_flows[0].loc[('1.114.234.173','202.23.222.39', 'tcp', 63192,23 )]"
      ],
      "execution_count": null,
      "outputs": [
        {
          "output_type": "execute_result",
          "data": {
            "text/plain": [
              "flow_size        9.351393e-09\n",
              "num_pk           2.000000e+00\n",
              "ip_ver           4.000000e+00\n",
              "flow_duration    1.666676e-08\n",
              "Name: (1.114.234.173, 202.23.222.39, tcp, 63192, 23), dtype: float64"
            ]
          },
          "metadata": {
            "tags": []
          },
          "execution_count": 71
        }
      ]
    },
    {
      "cell_type": "markdown",
      "metadata": {
        "id": "_p3ZEx6_iIpq",
        "colab_type": "text"
      },
      "source": [
        "## Flows analysis"
      ]
    },
    {
      "cell_type": "markdown",
      "metadata": {
        "id": "ukGDZadKoRd4",
        "colab_type": "text"
      },
      "source": [
        "### Duration"
      ]
    },
    {
      "cell_type": "code",
      "metadata": {
        "id": "nRW6ZcgxYi2S",
        "colab_type": "code",
        "colab": {
          "base_uri": "https://localhost:8080/",
          "height": 279
        },
        "outputId": "f2e2b2ea-1a7c-439b-cb1c-6b615b259d10"
      },
      "source": [
        "# Flow duration plots\n",
        "colors_t_u = ['r', 'b']\n",
        "for i in range(len(colors_t_u)):\n",
        "  h = np.histogram(DF_flows[i].flow_duration, bins = 50)\n",
        "  plt.plot(h[1][:-1], np.log10(h[0]), colors_t_u[i], label=t_u[i])\n",
        "  plt.legend(loc=\"upper right\")\n",
        "  plt.xlabel('Duration in sec')\n",
        "  plt.ylabel('log(# of flows)')\n",
        "plt.show()\n"
      ],
      "execution_count": null,
      "outputs": [
        {
          "output_type": "display_data",
          "data": {
            "image/png": "[encoded data removed]",
            "text/plain": [
              "<Figure size 432x288 with 1 Axes>"
            ]
          },
          "metadata": {
            "tags": [],
            "needs_background": "light"
          }
        }
      ]
    },
    {
      "cell_type": "code",
      "metadata": {
        "id": "3zNER_UUmxz4",
        "colab_type": "code",
        "colab": {
          "base_uri": "https://localhost:8080/",
          "height": 279
        },
        "outputId": "48712478-1936-4797-b834-1af09d623259"
      },
      "source": [
        "# as we can see there are a lot of flows with less than 10 packets that last for a lot\n",
        "\n",
        "colors_t_u = ['r', 'b']\n",
        "for i in range(len(colors_t_u)):\n",
        "  h = np.histogram(DF_flows[i][DF_flows[i].num_pk < 10].flow_duration, bins = 50)\n",
        "  plt.plot(h[1][:-1], np.log10(h[0]), colors_t_u[i], label=t_u[i])\n",
        "  plt.legend(loc=\"upper right\")\n",
        "  plt.xlabel('Duration in sec')\n",
        "  plt.ylabel('log(# of flows)')\n",
        "plt.show()"
      ],
      "execution_count": null,
      "outputs": [
        {
          "output_type": "display_data",
          "data": {
            "image/png": "[encoded data removed]",
            "text/plain": [
              "<Figure size 432x288 with 1 Axes>"
            ]
          },
          "metadata": {
            "tags": [],
            "needs_background": "light"
          }
        }
      ]
    },
    {
      "cell_type": "code",
      "metadata": {
        "id": "8jU27lqxjW63",
        "colab_type": "code",
        "colab": {
          "base_uri": "https://localhost:8080/",
          "height": 279
        },
        "outputId": "6bb94e1c-974e-4918-cec9-6608a065986b"
      },
      "source": [
        "# So let's consider only those flows with more than 10 packets\n",
        "\n",
        "colors_t_u = ['r', 'b']\n",
        "for i in range(len(colors_t_u)):\n",
        "  h = np.histogram(DF_flows[i][DF_flows[i].num_pk >= 10].flow_duration, bins = 50)\n",
        "  plt.plot(h[1][:-1], np.log10(h[0]), colors_t_u[i], label=t_u[i])\n",
        "  plt.legend(loc=\"upper right\")\n",
        "  plt.xlabel('Duration in sec')\n",
        "  plt.ylabel('log(# of flows)')\n",
        "plt.show()\n",
        "\n",
        "# as we can see there are a lot of peaks at some specific duration (e.g. 15s, 30s, 40s, 60s, 80s)"
      ],
      "execution_count": null,
      "outputs": [
        {
          "output_type": "display_data",
          "data": {
            "image/png": "[encoded data removed]",
            "text/plain": [
              "<Figure size 432x288 with 1 Axes>"
            ]
          },
          "metadata": {
            "tags": [],
            "needs_background": "light"
          }
        }
      ]
    },
    {
      "cell_type": "markdown",
      "metadata": {
        "id": "vD9EjedAoW63",
        "colab_type": "text"
      },
      "source": [
        "### Flow size\n"
      ]
    },
    {
      "cell_type": "code",
      "metadata": {
        "id": "tWG-v7m3oZq5",
        "colab_type": "code",
        "colab": {
          "base_uri": "https://localhost:8080/",
          "height": 541
        },
        "outputId": "1c6aabbf-2916-4414-a1bd-d07a0c1b21e9"
      },
      "source": [
        "# Flow size plots\n",
        "colors_t_u = ['r', 'b']\n",
        "for i in range(len(colors_t_u)):\n",
        "  h = np.histogram(DF_flows[i].flow_size, bins = 50)\n",
        "  plt.plot((h[1][:-1]+1), np.log10(h[0]+1), colors_t_u[i], label=t_u[i])\n",
        "  plt.legend(loc=\"upper right\")\n",
        "  plt.xlabel('Flowsize')\n",
        "  plt.ylabel('log(# of flows)')\n",
        "  plt.show()\n",
        "\n"
      ],
      "execution_count": null,
      "outputs": [
        {
          "output_type": "display_data",
          "data": {
            "image/png": "[encoded data removed]",
            "text/plain": [
              "<Figure size 432x288 with 1 Axes>"
            ]
          },
          "metadata": {
            "tags": [],
            "needs_background": "light"
          }
        },
        {
          "output_type": "display_data",
          "data": {
            "image/png": "[encoded data removed]",
            "text/plain": [
              "<Figure size 432x288 with 1 Axes>"
            ]
          },
          "metadata": {
            "tags": [],
            "needs_background": "light"
          }
        }
      ]
    },
    {
      "cell_type": "code",
      "metadata": {
        "id": "trZPm1jrqBq2",
        "colab_type": "code",
        "colab": {
          "base_uri": "https://localhost:8080/",
          "height": 541
        },
        "outputId": "822c6d66-9178-4340-8393-be0afcdb7bfc"
      },
      "source": [
        "# There are some outliers, so let's remove it\n",
        "\n",
        "colors_t_u = ['r', 'b']\n",
        "for i in range(len(colors_t_u)):\n",
        "  h = np.histogram(DF_flows[i][DF_flows[i].flow_size < Find_out(DF_flows[i].flow_size)].flow_size, bins = 50)\n",
        "  plt.plot(h[1][:-1], np.log10(h[0]+1), colors_t_u[i], label=t_u[i])\n",
        "  plt.legend(loc=\"upper right\")\n",
        "  plt.xlabel('Flowsize')\n",
        "  plt.ylabel('log(# of flows)')\n",
        "  plt.show()\n",
        "\n",
        "# As we can see this is a good decreasing distrifution"
      ],
      "execution_count": null,
      "outputs": [
        {
          "output_type": "display_data",
          "data": {
            "image/png": "[encoded data removed]",
            "text/plain": [
              "<Figure size 432x288 with 1 Axes>"
            ]
          },
          "metadata": {
            "tags": [],
            "needs_background": "light"
          }
        },
        {
          "output_type": "display_data",
          "data": {
            "image/png": "[encoded data removed]",
            "text/plain": [
              "<Figure size 432x288 with 1 Axes>"
            ]
          },
          "metadata": {
            "tags": [],
            "needs_background": "light"
          }
        }
      ]
    },
    {
      "cell_type": "markdown",
      "metadata": {
        "id": "uAkJSFNir5vf",
        "colab_type": "text"
      },
      "source": [
        "### Number of packets per flow"
      ]
    },
    {
      "cell_type": "code",
      "metadata": {
        "id": "bgDFWJNgr9Hu",
        "colab_type": "code",
        "colab": {
          "base_uri": "https://localhost:8080/",
          "height": 541
        },
        "outputId": "2617c0a9-6a3b-48b6-fb93-f9c861ae20f2"
      },
      "source": [
        "# Packet per flow plots\n",
        "colors_t_u = ['r', 'b']\n",
        "for i in range(len(colors_t_u)):\n",
        "  h = np.histogram(DF_flows[i].num_pk, bins = 50)\n",
        "  plt.plot((h[1][:-1]+1), np.log10(h[0]+1), colors_t_u[i], label=t_u[i])\n",
        "  plt.legend(loc=\"upper right\")\n",
        "  plt.xlabel('# of packets per flow')\n",
        "  plt.ylabel('log(# of flows)')\n",
        "  plt.show()"
      ],
      "execution_count": null,
      "outputs": [
        {
          "output_type": "display_data",
          "data": {
            "image/png": "[encoded data removed]",
            "text/plain": [
              "<Figure size 432x288 with 1 Axes>"
            ]
          },
          "metadata": {
            "tags": [],
            "needs_background": "light"
          }
        },
        {
          "output_type": "display_data",
          "data": {
            "image/png": "[encoded data removed]",
            "text/plain": [
              "<Figure size 432x288 with 1 Axes>"
            ]
          },
          "metadata": {
            "tags": [],
            "needs_background": "light"
          }
        }
      ]
    },
    {
      "cell_type": "code",
      "metadata": {
        "id": "vHTDVYmVsFNF",
        "colab_type": "code",
        "colab": {
          "base_uri": "https://localhost:8080/",
          "height": 541
        },
        "outputId": "8e5d73c3-1538-4a5c-83ab-4b1e856d0b2a"
      },
      "source": [
        "# the same af for the size, so let's remove the outliers\n",
        "# This time the upper bound are too small (52 for TCP and 2 for UDP)\n",
        "# so let's do it manually\n",
        "\n",
        "colors_t_u = ['r', 'b']\n",
        "upper_bounds = [10**5, 5*10**4]\n",
        "for i in range(len(colors_t_u)):\n",
        "  h = np.histogram(DF_flows[i][DF_flows[i].num_pk < upper_bounds[i]].num_pk, bins = 50)\n",
        "  plt.plot(h[1][:-1], np.log10(h[0]+1), colors_t_u[i], label=t_u[i])\n",
        "  plt.legend(loc=\"upper right\")\n",
        "  plt.xlabel('# of packets per flow')\n",
        "  plt.ylabel('log(# of flows)')\n",
        "  plt.show()\n"
      ],
      "execution_count": null,
      "outputs": [
        {
          "output_type": "display_data",
          "data": {
            "image/png": "[encoded data removed]",
            "text/plain": [
              "<Figure size 432x288 with 1 Axes>"
            ]
          },
          "metadata": {
            "tags": [],
            "needs_background": "light"
          }
        },
        {
          "output_type": "display_data",
          "data": {
            "image/png": "[encoded data removed]",
            "text/plain": [
              "<Figure size 432x288 with 1 Axes>"
            ]
          },
          "metadata": {
            "tags": [],
            "needs_background": "light"
          }
        }
      ]
    },
    {
      "cell_type": "markdown",
      "metadata": {
        "id": "lIxEscR0tBlW",
        "colab_type": "text"
      },
      "source": [
        "## Analyze ratio among flow size and flow duration (bps)\n"
      ]
    },
    {
      "cell_type": "code",
      "metadata": {
        "id": "ITtEsFl-tNQq",
        "colab_type": "code",
        "colab": {}
      },
      "source": [
        "# A function to standardize data\n",
        "def NormalizeData(data):\n",
        "    return (data - np.min(data)) / (np.max(data) - np.min(data))"
      ],
      "execution_count": 5,
      "outputs": []
    },
    {
      "cell_type": "code",
      "metadata": {
        "id": "nGGzS41AL9EZ",
        "colab_type": "code",
        "colab": {}
      },
      "source": [
        "train = DF_flows.copy()\n",
        "for i in range(2):\n",
        "  train[i]['flow_duration'] = NormalizeData(train[i]['flow_duration'])\n",
        "  train[i]['flow_size'] = NormalizeData(train[i]['flow_size'])"
      ],
      "execution_count": 70,
      "outputs": []
    },
    {
      "cell_type": "code",
      "metadata": {
        "id": "tBNUW1NxVHmi",
        "colab_type": "code",
        "colab": {}
      },
      "source": [
        "# removing all the rows with flow_duration = 0\n",
        "for i in range(2):\n",
        "  train[i] = train[i][train[i]['flow_duration'] != 0]\n",
        "  "
      ],
      "execution_count": 71,
      "outputs": []
    },
    {
      "cell_type": "code",
      "metadata": {
        "id": "ZYvX5yugVxp9",
        "colab_type": "code",
        "colab": {
          "base_uri": "https://localhost:8080/",
          "height": 121
        },
        "outputId": "24c70b96-645d-44d3-aae8-b488d35a8aa4"
      },
      "source": [
        "# Let's define the ratio\n",
        "for i in range(2):\n",
        "  train[i]['ratio'] = train[i]['flow_size']/train[i]['flow_duration']"
      ],
      "execution_count": 72,
      "outputs": [
        {
          "output_type": "stream",
          "text": [
            "/usr/local/lib/python3.6/dist-packages/ipykernel_launcher.py:3: SettingWithCopyWarning: \n",
            "A value is trying to be set on a copy of a slice from a DataFrame.\n",
            "Try using .loc[row_indexer,col_indexer] = value instead\n",
            "\n",
            "See the caveats in the documentation: https://pandas.pydata.org/pandas-docs/stable/user_guide/indexing.html#returning-a-view-versus-a-copy\n",
            "  This is separate from the ipykernel package so we can avoid doing imports until\n"
          ],
          "name": "stderr"
        }
      ]
    },
    {
      "cell_type": "code",
      "metadata": {
        "id": "Bo2uWsDCWm7W",
        "colab_type": "code",
        "colab": {
          "base_uri": "https://localhost:8080/",
          "height": 468
        },
        "outputId": "811c77d8-2621-428f-cd42-61ffb49ab9fb"
      },
      "source": [
        "# let's see some stat on <ratio>\n",
        "for i in range(2):\n",
        "  print('Describe of ', t_u[i])\n",
        "  print(train[i]['ratio'].describe())\n",
        "  print('\\n\\n')"
      ],
      "execution_count": 73,
      "outputs": [
        {
          "output_type": "stream",
          "text": [
            "Describe of  TCP\n",
            "count    1.681790e+05\n",
            "mean     3.736962e-01\n",
            "std      1.064594e+00\n",
            "min      2.507046e-08\n",
            "25%      2.991991e-05\n",
            "50%      8.730742e-04\n",
            "75%      9.571372e-01\n",
            "max      9.749598e+01\n",
            "Name: ratio, dtype: float64\n",
            "\n",
            "\n",
            "\n",
            "Describe of  UDP\n",
            "count    165846.000000\n",
            "mean         34.062852\n",
            "std          62.419204\n",
            "min           0.000000\n",
            "25%           5.652623\n",
            "50%          11.695082\n",
            "75%          20.661312\n",
            "max         566.821664\n",
            "Name: ratio, dtype: float64\n",
            "\n",
            "\n",
            "\n"
          ],
          "name": "stdout"
        }
      ]
    },
    {
      "cell_type": "code",
      "metadata": {
        "id": "RSVSFmsHXHGO",
        "colab_type": "code",
        "colab": {
          "base_uri": "https://localhost:8080/",
          "height": 573
        },
        "outputId": "4e8bd7fa-203b-46b0-f198-c35ac8ccb5ec"
      },
      "source": [
        "colors_t_u = ['r', 'b']\n",
        "for i in range(2):\n",
        "  y = train[i]['ratio']\n",
        "  x = range(0, len(train[i]['ratio']))\n",
        "  plt.scatter(x,y, color = colors_t_u[i])\n",
        "  plt.hlines(np.mean(train[i]['ratio']),xmin=0,xmax=max(train[i]['ratio']),colors='k')\n",
        "  plt.title(t_u[i])\n",
        "  plt.xlabel('flow')\n",
        "  plt.ylabel('ratio')\n",
        "  plt.show()"
      ],
      "execution_count": 74,
      "outputs": [
        {
          "output_type": "display_data",
          "data": {
            "image/png": "[encoded data removed]",
            "text/plain": [
              "<Figure size 432x288 with 1 Axes>"
            ]
          },
          "metadata": {
            "tags": [],
            "needs_background": "light"
          }
        },
        {
          "output_type": "display_data",
          "data": {
            "image/png": "[encoded data removed]",
            "text/plain": [
              "<Figure size 432x288 with 1 Axes>"
            ]
          },
          "metadata": {
            "tags": [],
            "needs_background": "light"
          }
        }
      ]
    },
    {
      "cell_type": "code",
      "metadata": {
        "id": "HUlZrTONYswv",
        "colab_type": "code",
        "colab": {
          "base_uri": "https://localhost:8080/",
          "height": 52
        },
        "outputId": "e1870964-8358-4e0f-db5b-e80e4abc931d"
      },
      "source": [
        "# Let's consider only the outliers\n",
        "ndata = [0,0]\n",
        "for i in range(2):\n",
        "  ndata[i] = train[i][train[i]['ratio']>Find_out(train[i]['ratio'])]\n",
        "  print('for the ', t_u[i], ' there are ',len(ndata[i]['ratio']), ' outliers')\n"
      ],
      "execution_count": 75,
      "outputs": [
        {
          "output_type": "stream",
          "text": [
            "for the  TCP  there are  975  outliers\n",
            "for the  UDP  there are  31182  outliers\n"
          ],
          "name": "stdout"
        }
      ]
    },
    {
      "cell_type": "code",
      "metadata": {
        "id": "zJX5SG7vZtxu",
        "colab_type": "code",
        "colab": {
          "base_uri": "https://localhost:8080/",
          "height": 87
        },
        "outputId": "3b844f46-e0ab-4e0c-cbe0-6d12e04dae7c"
      },
      "source": [
        "# let's see the combination of protocols and ip version for the outliers\n",
        "for i in range(2):\n",
        "  print(t_u[i], 'ip_ver4', len(ndata[i][ndata[i]['ip_ver']==4]))\n",
        "  print(t_u[i], 'ip_ver6', len(ndata[i][ndata[i]['ip_ver']==6]))  \n",
        "  \n",
        "# We care abuot UDP with IPv4"
      ],
      "execution_count": 76,
      "outputs": [
        {
          "output_type": "stream",
          "text": [
            "TCP ip_ver4 965\n",
            "TCP ip_ver6 10\n",
            "UDP ip_ver4 31182\n",
            "UDP ip_ver6 0\n"
          ],
          "name": "stdout"
        }
      ]
    },
    {
      "cell_type": "code",
      "metadata": {
        "id": "Ntbe3Lb1auoz",
        "colab_type": "code",
        "colab": {
          "base_uri": "https://localhost:8080/",
          "height": 313
        },
        "outputId": "715d2301-2756-4e43-e56d-02939f422f38"
      },
      "source": [
        "# Save these flows an plot an histogram\n",
        "udp4 = ndata[1][ndata[1]['ip_ver']==4]\n",
        "plt.hist(udp4['ratio'])\n",
        "plt.xlabel('ratio value')\n",
        "plt.ylabel('# of flows')\n",
        "plt.title(t_u[i] + ' ipv4')"
      ],
      "execution_count": 77,
      "outputs": [
        {
          "output_type": "execute_result",
          "data": {
            "text/plain": [
              "Text(0.5, 1.0, 'UDP ipv4')"
            ]
          },
          "metadata": {
            "tags": []
          },
          "execution_count": 77
        },
        {
          "output_type": "display_data",
          "data": {
            "image/png": "[encoded data removed]",
            "text/plain": [
              "<Figure size 432x288 with 1 Axes>"
            ]
          },
          "metadata": {
            "tags": [],
            "needs_background": "light"
          }
        }
      ]
    },
    {
      "cell_type": "code",
      "metadata": {
        "id": "uUJk6NthbiLw",
        "colab_type": "code",
        "colab": {
          "base_uri": "https://localhost:8080/",
          "height": 283
        },
        "outputId": "9f225699-2ab9-4b34-f763-2bfed464adb6"
      },
      "source": [
        "udp4.boxplot(column=['ratio'])"
      ],
      "execution_count": 78,
      "outputs": [
        {
          "output_type": "execute_result",
          "data": {
            "text/plain": [
              "<matplotlib.axes._subplots.AxesSubplot at 0x7f1936109278>"
            ]
          },
          "metadata": {
            "tags": []
          },
          "execution_count": 78
        },
        {
          "output_type": "display_data",
          "data": {
            "image/png": "[encoded data removed]",
            "text/plain": [
              "<Figure size 432x288 with 1 Axes>"
            ]
          },
          "metadata": {
            "tags": [],
            "needs_background": "light"
          }
        }
      ]
    },
    {
      "cell_type": "code",
      "metadata": {
        "id": "RRTNyqOWbvp7",
        "colab_type": "code",
        "colab": {
          "base_uri": "https://localhost:8080/",
          "height": 250
        },
        "outputId": "10514780-4fa9-4ba3-e74f-10811389c7ae"
      },
      "source": [
        "# let's select the outliers \n",
        "details = udp4[udp4['ratio']>(np.mean(udp4['ratio'])+2*np.std(udp4['ratio']))]\n",
        "print(len(details['ratio']))\n",
        "details.head()"
      ],
      "execution_count": 79,
      "outputs": [
        {
          "output_type": "stream",
          "text": [
            "1229\n"
          ],
          "name": "stdout"
        },
        {
          "output_type": "execute_result",
          "data": {
            "text/html": [
              "<div>\n",
              "<style scoped>\n",
              "    .dataframe tbody tr th:only-of-type {\n",
              "        vertical-align: middle;\n",
              "    }\n",
              "\n",
              "    .dataframe tbody tr th {\n",
              "        vertical-align: top;\n",
              "    }\n",
              "\n",
              "    .dataframe thead th {\n",
              "        text-align: right;\n",
              "    }\n",
              "</style>\n",
              "<table border=\"1\" class=\"dataframe\">\n",
              "  <thead>\n",
              "    <tr style=\"text-align: right;\">\n",
              "      <th></th>\n",
              "      <th></th>\n",
              "      <th></th>\n",
              "      <th></th>\n",
              "      <th></th>\n",
              "      <th>flow_size</th>\n",
              "      <th>num_pk</th>\n",
              "      <th>ip_ver</th>\n",
              "      <th>flow_duration</th>\n",
              "      <th>ratio</th>\n",
              "    </tr>\n",
              "    <tr>\n",
              "      <th>ip.src</th>\n",
              "      <th>ip.dst</th>\n",
              "      <th>ip.proto</th>\n",
              "      <th>udp.srcport</th>\n",
              "      <th>udp.dstport</th>\n",
              "      <th></th>\n",
              "      <th></th>\n",
              "      <th></th>\n",
              "      <th></th>\n",
              "      <th></th>\n",
              "    </tr>\n",
              "  </thead>\n",
              "  <tbody>\n",
              "    <tr>\n",
              "      <th>110.82.240.191</th>\n",
              "      <th>163.35.35.179</th>\n",
              "      <th>udp</th>\n",
              "      <th>53</th>\n",
              "      <th>63356</th>\n",
              "      <td>0.000003</td>\n",
              "      <td>2</td>\n",
              "      <td>4</td>\n",
              "      <td>8.333468e-09</td>\n",
              "      <td>331.750506</td>\n",
              "    </tr>\n",
              "    <tr>\n",
              "      <th>153.253.2.74</th>\n",
              "      <th>163.35.35.177</th>\n",
              "      <th>udp</th>\n",
              "      <th>53</th>\n",
              "      <th>61578</th>\n",
              "      <td>0.000003</td>\n",
              "      <td>2</td>\n",
              "      <td>4</td>\n",
              "      <td>8.333468e-09</td>\n",
              "      <td>409.717723</td>\n",
              "    </tr>\n",
              "    <tr>\n",
              "      <th rowspan=\"3\" valign=\"top\">156.101.162.230</th>\n",
              "      <th rowspan=\"3\" valign=\"top\">131.119.89.254</th>\n",
              "      <th rowspan=\"3\" valign=\"top\">udp</th>\n",
              "      <th rowspan=\"3\" valign=\"top\">53</th>\n",
              "      <th>52612</th>\n",
              "      <td>0.000004</td>\n",
              "      <td>2</td>\n",
              "      <td>4</td>\n",
              "      <td>8.333468e-09</td>\n",
              "      <td>429.989199</td>\n",
              "    </tr>\n",
              "    <tr>\n",
              "      <th>56927</th>\n",
              "      <td>0.000004</td>\n",
              "      <td>2</td>\n",
              "      <td>4</td>\n",
              "      <td>8.333468e-09</td>\n",
              "      <td>429.989196</td>\n",
              "    </tr>\n",
              "    <tr>\n",
              "      <th>57226</th>\n",
              "      <td>0.000004</td>\n",
              "      <td>2</td>\n",
              "      <td>4</td>\n",
              "      <td>8.333468e-09</td>\n",
              "      <td>429.989196</td>\n",
              "    </tr>\n",
              "  </tbody>\n",
              "</table>\n",
              "</div>"
            ],
            "text/plain": [
              "                                                                 flow_size  ...       ratio\n",
              "ip.src          ip.dst         ip.proto udp.srcport udp.dstport             ...            \n",
              "110.82.240.191  163.35.35.179  udp      53          63356         0.000003  ...  331.750506\n",
              "153.253.2.74    163.35.35.177  udp      53          61578         0.000003  ...  409.717723\n",
              "156.101.162.230 131.119.89.254 udp      53          52612         0.000004  ...  429.989199\n",
              "                                                    56927         0.000004  ...  429.989196\n",
              "                                                    57226         0.000004  ...  429.989196\n",
              "\n",
              "[5 rows x 5 columns]"
            ]
          },
          "metadata": {
            "tags": []
          },
          "execution_count": 79
        }
      ]
    },
    {
      "cell_type": "code",
      "metadata": {
        "id": "MNiuVRHLeV1f",
        "colab_type": "code",
        "colab": {
          "base_uri": "https://localhost:8080/",
          "height": 121
        },
        "outputId": "3523ba91-a5b4-49cb-951c-61c3f1d14b08"
      },
      "source": [
        "# let's analyze the flows identifiers\n",
        "\n",
        "# save the index in a df\n",
        "flow_ = list(udp4.index.values)\n",
        "flow_details = []\n",
        "for i in flow_:\n",
        "  ls = list(i)\n",
        "  flow_details.append([ls[3], ls[4], ls[0], ls[1]])\n",
        "flow_details = pd.DataFrame(flow_details)\n",
        "col_names = ['srcport',\t'dstport','ip_src', 'ip_dst']\n",
        "flow_details.columns = col_names\n",
        "print(flow_details.head())\n"
      ],
      "execution_count": 80,
      "outputs": [
        {
          "output_type": "stream",
          "text": [
            "   srcport  dstport           ip_src          ip_dst\n",
            "0    14769    33869    101.134.14.67    203.85.97.74\n",
            "1     8999    33869   101.140.165.57    203.85.97.74\n",
            "2    49773      161  101.140.227.120  202.23.218.159\n",
            "3    49774      161  101.140.227.120  202.23.218.159\n",
            "4    58580      161  101.140.227.120  202.23.218.159\n"
          ],
          "name": "stdout"
        }
      ]
    },
    {
      "cell_type": "code",
      "metadata": {
        "id": "u9FgiCx1kcBn",
        "colab_type": "code",
        "colab": {
          "base_uri": "https://localhost:8080/",
          "height": 919
        },
        "outputId": "65f66c48-a324-4f1a-bd4e-214a085abc41"
      },
      "source": [
        "for i in range(4):\n",
        "  print(col_names[i])\n",
        "  print(flow_details[col_names[i]].value_counts()[:10], '\\n')"
      ],
      "execution_count": 81,
      "outputs": [
        {
          "output_type": "stream",
          "text": [
            "srcport\n",
            "53       28742\n",
            "6889       228\n",
            "6881       200\n",
            "51413      116\n",
            "27015       55\n",
            "49160       25\n",
            "8999        22\n",
            "49001        8\n",
            "6880         7\n",
            "63000        7\n",
            "Name: srcport, dtype: int64 \n",
            "\n",
            "dstport\n",
            "33869    1946\n",
            "53        185\n",
            "65166      42\n",
            "56739      23\n",
            "161        20\n",
            "3702       16\n",
            "29059      15\n",
            "45771      12\n",
            "123        11\n",
            "6881       10\n",
            "Name: dstport, dtype: int64 \n",
            "\n",
            "ip_src\n",
            "203.240.143.134    11228\n",
            "202.254.15.201      6402\n",
            "203.240.128.214     5101\n",
            "202.254.9.49         969\n",
            "203.85.104.61        597\n",
            "8.56.11.240          520\n",
            "203.85.104.45        425\n",
            "202.24.240.31        248\n",
            "192.146.42.54        238\n",
            "131.118.125.237      204\n",
            "Name: ip_src, dtype: int64 \n",
            "\n",
            "ip_dst\n",
            "203.85.97.74      1946\n",
            "202.98.157.2       884\n",
            "203.83.231.229     774\n",
            "101.207.247.66     375\n",
            "101.207.247.96     373\n",
            "101.207.247.67     346\n",
            "202.23.220.110     251\n",
            "160.48.212.245     217\n",
            "150.8.254.10       201\n",
            "150.42.16.243      186\n",
            "Name: ip_dst, dtype: int64 \n",
            "\n"
          ],
          "name": "stdout"
        }
      ]
    },
    {
      "cell_type": "markdown",
      "metadata": {
        "id": "utaroqvUnbPc",
        "colab_type": "text"
      },
      "source": [
        "### IP sorce\n",
        "\n",
        "For what concern the ip sorces with an higher count we can see that:\n",
        "- 203.240.128.0/19 belongs to a telecomunication company (Sejong telecom)\n",
        "- 202.254.0.0/19 belong to Hyogo University of Teacher Education\n",
        "- 203.85.102.0/23 belong to a telecomunication company (CITIC telecomunication)\n",
        "\n",
        "So as we can see the highes number of flows with a huge level of bit per sec comes from telecomunication company or from research department."
      ]
    },
    {
      "cell_type": "markdown",
      "metadata": {
        "id": "EmxGz3QwtG_p",
        "colab_type": "text"
      },
      "source": [
        "# Part 2)"
      ]
    },
    {
      "cell_type": "markdown",
      "metadata": {
        "id": "W6aKyyD6tUmJ",
        "colab_type": "text"
      },
      "source": [
        "## Windows size analysis\n",
        "\n",
        "Let's analyze the distribution of the window size of the TCP protocol."
      ]
    },
    {
      "cell_type": "code",
      "metadata": {
        "id": "5vN0UOC2tUKx",
        "colab_type": "code",
        "colab": {
          "base_uri": "https://localhost:8080/",
          "height": 233
        },
        "outputId": "70ba0046-d427-43e3-b336-abcab199b195"
      },
      "source": [
        "# for each flow let's consider some statistics for the window size\n",
        "df = DF[0].groupby(['ip.src', 'ip.dst', 'ip.proto', 'tcp.srcport',\t'tcp.dstport']).agg({'tcp.window_size':['count','min', 'max', 'median']})\n",
        "df.columns = df.columns.droplevel()\n",
        "df.columns = ['ws_count', 'ws_min', 'ws_max', 'ws_median'] \n",
        "df.head()"
      ],
      "execution_count": null,
      "outputs": [
        {
          "output_type": "execute_result",
          "data": {
            "text/html": [
              "<div>\n",
              "<style scoped>\n",
              "    .dataframe tbody tr th:only-of-type {\n",
              "        vertical-align: middle;\n",
              "    }\n",
              "\n",
              "    .dataframe tbody tr th {\n",
              "        vertical-align: top;\n",
              "    }\n",
              "\n",
              "    .dataframe thead th {\n",
              "        text-align: right;\n",
              "    }\n",
              "</style>\n",
              "<table border=\"1\" class=\"dataframe\">\n",
              "  <thead>\n",
              "    <tr style=\"text-align: right;\">\n",
              "      <th></th>\n",
              "      <th></th>\n",
              "      <th></th>\n",
              "      <th></th>\n",
              "      <th></th>\n",
              "      <th>ws_count</th>\n",
              "      <th>ws_min</th>\n",
              "      <th>ws_max</th>\n",
              "      <th>ws_median</th>\n",
              "    </tr>\n",
              "    <tr>\n",
              "      <th>ip.src</th>\n",
              "      <th>ip.dst</th>\n",
              "      <th>ip.proto</th>\n",
              "      <th>tcp.srcport</th>\n",
              "      <th>tcp.dstport</th>\n",
              "      <th></th>\n",
              "      <th></th>\n",
              "      <th></th>\n",
              "      <th></th>\n",
              "    </tr>\n",
              "  </thead>\n",
              "  <tbody>\n",
              "    <tr>\n",
              "      <th rowspan=\"2\" valign=\"top\">1.114.234.173</th>\n",
              "      <th>202.23.221.83</th>\n",
              "      <th>tcp</th>\n",
              "      <th>63192</th>\n",
              "      <th>26</th>\n",
              "      <td>2</td>\n",
              "      <td>59082.0</td>\n",
              "      <td>59082.0</td>\n",
              "      <td>59082.0</td>\n",
              "    </tr>\n",
              "    <tr>\n",
              "      <th>202.23.222.39</th>\n",
              "      <th>tcp</th>\n",
              "      <th>63192</th>\n",
              "      <th>23</th>\n",
              "      <td>2</td>\n",
              "      <td>59082.0</td>\n",
              "      <td>59082.0</td>\n",
              "      <td>59082.0</td>\n",
              "    </tr>\n",
              "    <tr>\n",
              "      <th>1.114.236.173</th>\n",
              "      <th>202.23.222.27</th>\n",
              "      <th>tcp</th>\n",
              "      <th>16143</th>\n",
              "      <th>23</th>\n",
              "      <td>4</td>\n",
              "      <td>7979.0</td>\n",
              "      <td>7979.0</td>\n",
              "      <td>7979.0</td>\n",
              "    </tr>\n",
              "    <tr>\n",
              "      <th>1.125.100.28</th>\n",
              "      <th>202.23.220.95</th>\n",
              "      <th>tcp</th>\n",
              "      <th>32179</th>\n",
              "      <th>23</th>\n",
              "      <td>2</td>\n",
              "      <td>21918.0</td>\n",
              "      <td>21918.0</td>\n",
              "      <td>21918.0</td>\n",
              "    </tr>\n",
              "    <tr>\n",
              "      <th>1.134.26.1</th>\n",
              "      <th>202.23.223.45</th>\n",
              "      <th>tcp</th>\n",
              "      <th>443</th>\n",
              "      <th>60348</th>\n",
              "      <td>16</td>\n",
              "      <td>70.0</td>\n",
              "      <td>70.0</td>\n",
              "      <td>70.0</td>\n",
              "    </tr>\n",
              "  </tbody>\n",
              "</table>\n",
              "</div>"
            ],
            "text/plain": [
              "                                                              ws_count  ...  ws_median\n",
              "ip.src        ip.dst        ip.proto tcp.srcport tcp.dstport            ...           \n",
              "1.114.234.173 202.23.221.83 tcp      63192       26                  2  ...    59082.0\n",
              "              202.23.222.39 tcp      63192       23                  2  ...    59082.0\n",
              "1.114.236.173 202.23.222.27 tcp      16143       23                  4  ...     7979.0\n",
              "1.125.100.28  202.23.220.95 tcp      32179       23                  2  ...    21918.0\n",
              "1.134.26.1    202.23.223.45 tcp      443         60348              16  ...       70.0\n",
              "\n",
              "[5 rows x 4 columns]"
            ]
          },
          "metadata": {
            "tags": []
          },
          "execution_count": 17
        }
      ]
    },
    {
      "cell_type": "code",
      "metadata": {
        "id": "pOW240gkFYGa",
        "colab_type": "code",
        "colab": {
          "base_uri": "https://localhost:8080/",
          "height": 279
        },
        "outputId": "03107b97-2d1d-40a2-cca2-c525e3cbdd94"
      },
      "source": [
        "# plot distr COUNT\n",
        "plt.hist(np.log10(df['ws_count']+1), bins = 50)\n",
        "plt.xlabel('log(# of packets per flow)')\n",
        "plt.ylabel('# of flows')\n",
        "plt.show()"
      ],
      "execution_count": null,
      "outputs": [
        {
          "output_type": "display_data",
          "data": {
            "image/png": "[encoded data removed]",
            "text/plain": [
              "<Figure size 432x288 with 1 Axes>"
            ]
          },
          "metadata": {
            "tags": [],
            "needs_background": "light"
          }
        }
      ]
    },
    {
      "cell_type": "code",
      "metadata": {
        "id": "e_VFo_qBFSfb",
        "colab_type": "code",
        "colab": {
          "base_uri": "https://localhost:8080/",
          "height": 250
        },
        "outputId": "1c7221ef-9c99-4050-ae93-9fcb87fad184"
      },
      "source": [
        "# Let's take only the outliers w.r.t the number of packets in a given flow\n",
        "\n",
        "df_count_out = df[df['ws_count']>Find_out(df['ws_count'])]\n",
        "print('We are moving from %g rows to %g rows' %(df.shape[0],df_count_out.shape[0]))\n",
        "df_count_out.head()"
      ],
      "execution_count": null,
      "outputs": [
        {
          "output_type": "stream",
          "text": [
            "We are moving from 171824 rows to 18239 rows\n"
          ],
          "name": "stdout"
        },
        {
          "output_type": "execute_result",
          "data": {
            "text/html": [
              "<div>\n",
              "<style scoped>\n",
              "    .dataframe tbody tr th:only-of-type {\n",
              "        vertical-align: middle;\n",
              "    }\n",
              "\n",
              "    .dataframe tbody tr th {\n",
              "        vertical-align: top;\n",
              "    }\n",
              "\n",
              "    .dataframe thead th {\n",
              "        text-align: right;\n",
              "    }\n",
              "</style>\n",
              "<table border=\"1\" class=\"dataframe\">\n",
              "  <thead>\n",
              "    <tr style=\"text-align: right;\">\n",
              "      <th></th>\n",
              "      <th></th>\n",
              "      <th></th>\n",
              "      <th></th>\n",
              "      <th></th>\n",
              "      <th>ws_count</th>\n",
              "      <th>ws_min</th>\n",
              "      <th>ws_max</th>\n",
              "      <th>ws_median</th>\n",
              "    </tr>\n",
              "    <tr>\n",
              "      <th>ip.src</th>\n",
              "      <th>ip.dst</th>\n",
              "      <th>ip.proto</th>\n",
              "      <th>tcp.srcport</th>\n",
              "      <th>tcp.dstport</th>\n",
              "      <th></th>\n",
              "      <th></th>\n",
              "      <th></th>\n",
              "      <th></th>\n",
              "    </tr>\n",
              "  </thead>\n",
              "  <tbody>\n",
              "    <tr>\n",
              "      <th>1.196.106.68</th>\n",
              "      <th>163.35.20.53</th>\n",
              "      <th>tcp</th>\n",
              "      <th>21551</th>\n",
              "      <th>443</th>\n",
              "      <td>2873</td>\n",
              "      <td>65535.0</td>\n",
              "      <td>3070976.0</td>\n",
              "      <td>2087936.0</td>\n",
              "    </tr>\n",
              "    <tr>\n",
              "      <th rowspan=\"4\" valign=\"top\">1.205.160.123</th>\n",
              "      <th rowspan=\"4\" valign=\"top\">202.23.220.252</th>\n",
              "      <th rowspan=\"4\" valign=\"top\">tcp</th>\n",
              "      <th>13720</th>\n",
              "      <th>443</th>\n",
              "      <td>88</td>\n",
              "      <td>65535.0</td>\n",
              "      <td>219136.0</td>\n",
              "      <td>179712.0</td>\n",
              "    </tr>\n",
              "    <tr>\n",
              "      <th>13726</th>\n",
              "      <th>443</th>\n",
              "      <td>131</td>\n",
              "      <td>65535.0</td>\n",
              "      <td>318464.0</td>\n",
              "      <td>228352.0</td>\n",
              "    </tr>\n",
              "    <tr>\n",
              "      <th>13730</th>\n",
              "      <th>443</th>\n",
              "      <td>56</td>\n",
              "      <td>65535.0</td>\n",
              "      <td>185344.0</td>\n",
              "      <td>164864.0</td>\n",
              "    </tr>\n",
              "    <tr>\n",
              "      <th>13743</th>\n",
              "      <th>443</th>\n",
              "      <td>54</td>\n",
              "      <td>65535.0</td>\n",
              "      <td>179200.0</td>\n",
              "      <td>164864.0</td>\n",
              "    </tr>\n",
              "  </tbody>\n",
              "</table>\n",
              "</div>"
            ],
            "text/plain": [
              "                                                               ws_count  ...  ws_median\n",
              "ip.src        ip.dst         ip.proto tcp.srcport tcp.dstport            ...           \n",
              "1.196.106.68  163.35.20.53   tcp      21551       443              2873  ...  2087936.0\n",
              "1.205.160.123 202.23.220.252 tcp      13720       443                88  ...   179712.0\n",
              "                                      13726       443               131  ...   228352.0\n",
              "                                      13730       443                56  ...   164864.0\n",
              "                                      13743       443                54  ...   164864.0\n",
              "\n",
              "[5 rows x 4 columns]"
            ]
          },
          "metadata": {
            "tags": []
          },
          "execution_count": 57
        }
      ]
    },
    {
      "cell_type": "code",
      "metadata": {
        "id": "Z7gF5qdHVL7x",
        "colab_type": "code",
        "colab": {
          "base_uri": "https://localhost:8080/",
          "height": 279
        },
        "outputId": "a9bf17d4-2d6a-489d-aada-a7aab9101cb8"
      },
      "source": [
        "# plot histograms of min\n",
        "\n",
        "plt.hist(np.log10(df_count_out['ws_min']+1), bins = 50)\n",
        "plt.xlabel('log(min value)')\n",
        "plt.ylabel('# of flows')\n",
        "\n",
        "plt.show()"
      ],
      "execution_count": null,
      "outputs": [
        {
          "output_type": "display_data",
          "data": {
            "image/png": "[encoded data removed]",
            "text/plain": [
              "<Figure size 432x288 with 1 Axes>"
            ]
          },
          "metadata": {
            "tags": [],
            "needs_background": "light"
          }
        }
      ]
    },
    {
      "cell_type": "code",
      "metadata": {
        "id": "RBXxb7ppU8rw",
        "colab_type": "code",
        "colab": {
          "base_uri": "https://localhost:8080/",
          "height": 250
        },
        "outputId": "b520da06-016d-4d6a-a992-ba4bb53b3baf"
      },
      "source": [
        "# Pick only the outliers with MIN = 0\n",
        "\n",
        "df_min = df_count_out[df_count_out['ws_min'] == 0]\n",
        "print('We are moving from %g rows to %g rows' %(df_count_out.shape[0],df_min.shape[0]))\n",
        "df_min.head()"
      ],
      "execution_count": null,
      "outputs": [
        {
          "output_type": "stream",
          "text": [
            "We are moving from 18239 rows to 1635 rows\n"
          ],
          "name": "stdout"
        },
        {
          "output_type": "execute_result",
          "data": {
            "text/html": [
              "<div>\n",
              "<style scoped>\n",
              "    .dataframe tbody tr th:only-of-type {\n",
              "        vertical-align: middle;\n",
              "    }\n",
              "\n",
              "    .dataframe tbody tr th {\n",
              "        vertical-align: top;\n",
              "    }\n",
              "\n",
              "    .dataframe thead th {\n",
              "        text-align: right;\n",
              "    }\n",
              "</style>\n",
              "<table border=\"1\" class=\"dataframe\">\n",
              "  <thead>\n",
              "    <tr style=\"text-align: right;\">\n",
              "      <th></th>\n",
              "      <th></th>\n",
              "      <th></th>\n",
              "      <th></th>\n",
              "      <th></th>\n",
              "      <th>ws_count</th>\n",
              "      <th>ws_min</th>\n",
              "      <th>ws_max</th>\n",
              "      <th>ws_median</th>\n",
              "    </tr>\n",
              "    <tr>\n",
              "      <th>ip.src</th>\n",
              "      <th>ip.dst</th>\n",
              "      <th>ip.proto</th>\n",
              "      <th>tcp.srcport</th>\n",
              "      <th>tcp.dstport</th>\n",
              "      <th></th>\n",
              "      <th></th>\n",
              "      <th></th>\n",
              "      <th></th>\n",
              "    </tr>\n",
              "  </thead>\n",
              "  <tbody>\n",
              "    <tr>\n",
              "      <th rowspan=\"5\" valign=\"top\">106.112.1.40</th>\n",
              "      <th>150.70.31.141</th>\n",
              "      <th>tcp</th>\n",
              "      <th>50119</th>\n",
              "      <th>80</th>\n",
              "      <td>1376</td>\n",
              "      <td>0.0</td>\n",
              "      <td>8212.0</td>\n",
              "      <td>8212.0</td>\n",
              "    </tr>\n",
              "    <tr>\n",
              "      <th rowspan=\"4\" valign=\"top\">203.85.105.64</th>\n",
              "      <th rowspan=\"4\" valign=\"top\">tcp</th>\n",
              "      <th>53355</th>\n",
              "      <th>80</th>\n",
              "      <td>522</td>\n",
              "      <td>0.0</td>\n",
              "      <td>1402.0</td>\n",
              "      <td>1402.0</td>\n",
              "    </tr>\n",
              "    <tr>\n",
              "      <th>53396</th>\n",
              "      <th>80</th>\n",
              "      <td>816</td>\n",
              "      <td>0.0</td>\n",
              "      <td>1136.0</td>\n",
              "      <td>1136.0</td>\n",
              "    </tr>\n",
              "    <tr>\n",
              "      <th>53468</th>\n",
              "      <th>80</th>\n",
              "      <td>1120</td>\n",
              "      <td>0.0</td>\n",
              "      <td>1997.0</td>\n",
              "      <td>1997.0</td>\n",
              "    </tr>\n",
              "    <tr>\n",
              "      <th>53475</th>\n",
              "      <th>80</th>\n",
              "      <td>554</td>\n",
              "      <td>0.0</td>\n",
              "      <td>3293.0</td>\n",
              "      <td>3293.0</td>\n",
              "    </tr>\n",
              "  </tbody>\n",
              "</table>\n",
              "</div>"
            ],
            "text/plain": [
              "                                                             ws_count  ...  ws_median\n",
              "ip.src       ip.dst        ip.proto tcp.srcport tcp.dstport            ...           \n",
              "106.112.1.40 150.70.31.141 tcp      50119       80               1376  ...     8212.0\n",
              "             203.85.105.64 tcp      53355       80                522  ...     1402.0\n",
              "                                    53396       80                816  ...     1136.0\n",
              "                                    53468       80               1120  ...     1997.0\n",
              "                                    53475       80                554  ...     3293.0\n",
              "\n",
              "[5 rows x 4 columns]"
            ]
          },
          "metadata": {
            "tags": []
          },
          "execution_count": 59
        }
      ]
    },
    {
      "cell_type": "code",
      "metadata": {
        "id": "FI24cKpqW-Rw",
        "colab_type": "code",
        "colab": {
          "base_uri": "https://localhost:8080/",
          "height": 250
        },
        "outputId": "beb3d9aa-6066-4aed-bb53-e619b97d2325"
      },
      "source": [
        "# pick only the outliers w.r.t. max\n",
        "\n",
        "df_max = df_min[df_min['ws_max']>Find_out(df_min['ws_max'])]\n",
        "print('We are moving from %g rows to %g rows' %(df_min.shape[0], df_max.shape[0]))\n",
        "df_max = df_max.sort_values(by = 'ws_max', ascending = False)\n",
        "df_max.head()"
      ],
      "execution_count": null,
      "outputs": [
        {
          "output_type": "stream",
          "text": [
            "We are moving from 1635 rows to 218 rows\n"
          ],
          "name": "stdout"
        },
        {
          "output_type": "execute_result",
          "data": {
            "text/html": [
              "<div>\n",
              "<style scoped>\n",
              "    .dataframe tbody tr th:only-of-type {\n",
              "        vertical-align: middle;\n",
              "    }\n",
              "\n",
              "    .dataframe tbody tr th {\n",
              "        vertical-align: top;\n",
              "    }\n",
              "\n",
              "    .dataframe thead th {\n",
              "        text-align: right;\n",
              "    }\n",
              "</style>\n",
              "<table border=\"1\" class=\"dataframe\">\n",
              "  <thead>\n",
              "    <tr style=\"text-align: right;\">\n",
              "      <th></th>\n",
              "      <th></th>\n",
              "      <th></th>\n",
              "      <th></th>\n",
              "      <th></th>\n",
              "      <th>ws_count</th>\n",
              "      <th>ws_min</th>\n",
              "      <th>ws_max</th>\n",
              "      <th>ws_median</th>\n",
              "    </tr>\n",
              "    <tr>\n",
              "      <th>ip.src</th>\n",
              "      <th>ip.dst</th>\n",
              "      <th>ip.proto</th>\n",
              "      <th>tcp.srcport</th>\n",
              "      <th>tcp.dstport</th>\n",
              "      <th></th>\n",
              "      <th></th>\n",
              "      <th></th>\n",
              "      <th></th>\n",
              "    </tr>\n",
              "  </thead>\n",
              "  <tbody>\n",
              "    <tr>\n",
              "      <th>157.210.110.83</th>\n",
              "      <th>210.147.53.151</th>\n",
              "      <th>tcp</th>\n",
              "      <th>54344</th>\n",
              "      <th>80</th>\n",
              "      <td>96</td>\n",
              "      <td>0.0</td>\n",
              "      <td>16776960.0</td>\n",
              "      <td>16776960.0</td>\n",
              "    </tr>\n",
              "    <tr>\n",
              "      <th>210.162.147.35</th>\n",
              "      <th>133.54.30.245</th>\n",
              "      <th>tcp</th>\n",
              "      <th>57837</th>\n",
              "      <th>443</th>\n",
              "      <td>419</td>\n",
              "      <td>0.0</td>\n",
              "      <td>16776960.0</td>\n",
              "      <td>65535.0</td>\n",
              "    </tr>\n",
              "    <tr>\n",
              "      <th rowspan=\"3\" valign=\"top\">150.70.216.102</th>\n",
              "      <th rowspan=\"3\" valign=\"top\">103.139.117.234</th>\n",
              "      <th rowspan=\"3\" valign=\"top\">tcp</th>\n",
              "      <th>56149</th>\n",
              "      <th>443</th>\n",
              "      <td>62</td>\n",
              "      <td>0.0</td>\n",
              "      <td>16776960.0</td>\n",
              "      <td>16776960.0</td>\n",
              "    </tr>\n",
              "    <tr>\n",
              "      <th>56150</th>\n",
              "      <th>443</th>\n",
              "      <td>118</td>\n",
              "      <td>0.0</td>\n",
              "      <td>16776960.0</td>\n",
              "      <td>16776960.0</td>\n",
              "    </tr>\n",
              "    <tr>\n",
              "      <th>56151</th>\n",
              "      <th>443</th>\n",
              "      <td>104</td>\n",
              "      <td>0.0</td>\n",
              "      <td>16776960.0</td>\n",
              "      <td>16776960.0</td>\n",
              "    </tr>\n",
              "  </tbody>\n",
              "</table>\n",
              "</div>"
            ],
            "text/plain": [
              "                                                                 ws_count  ...   ws_median\n",
              "ip.src         ip.dst          ip.proto tcp.srcport tcp.dstport            ...            \n",
              "157.210.110.83 210.147.53.151  tcp      54344       80                 96  ...  16776960.0\n",
              "210.162.147.35 133.54.30.245   tcp      57837       443               419  ...     65535.0\n",
              "150.70.216.102 103.139.117.234 tcp      56149       443                62  ...  16776960.0\n",
              "                                        56150       443               118  ...  16776960.0\n",
              "                                        56151       443               104  ...  16776960.0\n",
              "\n",
              "[5 rows x 4 columns]"
            ]
          },
          "metadata": {
            "tags": []
          },
          "execution_count": 60
        }
      ]
    },
    {
      "cell_type": "code",
      "metadata": {
        "id": "2TwZXQ2aYCCR",
        "colab_type": "code",
        "colab": {
          "base_uri": "https://localhost:8080/",
          "height": 386
        },
        "outputId": "5a2bdd89-6fea-4bd6-9dc6-c078b103bdf2"
      },
      "source": [
        "# now we only care about those flows with a huge difference among max and median\n",
        "df_max = df_min[df_min['ws_median']<0.6*df_min['ws_max']]\n",
        "df_max = df_max.sort_values(by = 'ws_max', ascending = False)\n",
        "df_max.head(10)\n",
        "\n",
        "# the first one is the ip 210.162.147.35 belongs to NTT Communications Corporation based in Tokio (Nippon Telegraph and Telephone Corporation)\n",
        "# Let's select some of the first ip.src with an high max"
      ],
      "execution_count": null,
      "outputs": [
        {
          "output_type": "execute_result",
          "data": {
            "text/html": [
              "<div>\n",
              "<style scoped>\n",
              "    .dataframe tbody tr th:only-of-type {\n",
              "        vertical-align: middle;\n",
              "    }\n",
              "\n",
              "    .dataframe tbody tr th {\n",
              "        vertical-align: top;\n",
              "    }\n",
              "\n",
              "    .dataframe thead th {\n",
              "        text-align: right;\n",
              "    }\n",
              "</style>\n",
              "<table border=\"1\" class=\"dataframe\">\n",
              "  <thead>\n",
              "    <tr style=\"text-align: right;\">\n",
              "      <th></th>\n",
              "      <th></th>\n",
              "      <th></th>\n",
              "      <th></th>\n",
              "      <th></th>\n",
              "      <th>ws_count</th>\n",
              "      <th>ws_min</th>\n",
              "      <th>ws_max</th>\n",
              "      <th>ws_median</th>\n",
              "    </tr>\n",
              "    <tr>\n",
              "      <th>ip.src</th>\n",
              "      <th>ip.dst</th>\n",
              "      <th>ip.proto</th>\n",
              "      <th>tcp.srcport</th>\n",
              "      <th>tcp.dstport</th>\n",
              "      <th></th>\n",
              "      <th></th>\n",
              "      <th></th>\n",
              "      <th></th>\n",
              "    </tr>\n",
              "  </thead>\n",
              "  <tbody>\n",
              "    <tr>\n",
              "      <th rowspan=\"4\" valign=\"top\">210.162.147.35</th>\n",
              "      <th rowspan=\"4\" valign=\"top\">133.54.30.245</th>\n",
              "      <th rowspan=\"4\" valign=\"top\">tcp</th>\n",
              "      <th>57834</th>\n",
              "      <th>443</th>\n",
              "      <td>133</td>\n",
              "      <td>0.0</td>\n",
              "      <td>16776960.0</td>\n",
              "      <td>65535.0</td>\n",
              "    </tr>\n",
              "    <tr>\n",
              "      <th>57847</th>\n",
              "      <th>443</th>\n",
              "      <td>65</td>\n",
              "      <td>0.0</td>\n",
              "      <td>16776960.0</td>\n",
              "      <td>65535.0</td>\n",
              "    </tr>\n",
              "    <tr>\n",
              "      <th>57837</th>\n",
              "      <th>443</th>\n",
              "      <td>419</td>\n",
              "      <td>0.0</td>\n",
              "      <td>16776960.0</td>\n",
              "      <td>65535.0</td>\n",
              "    </tr>\n",
              "    <tr>\n",
              "      <th>57836</th>\n",
              "      <th>443</th>\n",
              "      <td>85</td>\n",
              "      <td>0.0</td>\n",
              "      <td>16776960.0</td>\n",
              "      <td>65535.0</td>\n",
              "    </tr>\n",
              "    <tr>\n",
              "      <th>150.70.185.197</th>\n",
              "      <th>23.113.51.228</th>\n",
              "      <th>tcp</th>\n",
              "      <th>53362</th>\n",
              "      <th>443</th>\n",
              "      <td>3248</td>\n",
              "      <td>0.0</td>\n",
              "      <td>12669696.0</td>\n",
              "      <td>6333440.0</td>\n",
              "    </tr>\n",
              "    <tr>\n",
              "      <th>203.85.97.39</th>\n",
              "      <th>117.230.246.25</th>\n",
              "      <th>tcp</th>\n",
              "      <th>60321</th>\n",
              "      <th>443</th>\n",
              "      <td>894</td>\n",
              "      <td>0.0</td>\n",
              "      <td>8470784.0</td>\n",
              "      <td>2116864.0</td>\n",
              "    </tr>\n",
              "    <tr>\n",
              "      <th rowspan=\"4\" valign=\"top\">240b:f853:30a5:9278:32cc:8b96:1b94:e54</th>\n",
              "      <th rowspan=\"4\" valign=\"top\">2001:1bf0:ea9:90d4:20:1fc:8180:271</th>\n",
              "      <th rowspan=\"4\" valign=\"top\">tcp</th>\n",
              "      <th>50925</th>\n",
              "      <th>80</th>\n",
              "      <td>385</td>\n",
              "      <td>0.0</td>\n",
              "      <td>4270848.0</td>\n",
              "      <td>2134016.0</td>\n",
              "    </tr>\n",
              "    <tr>\n",
              "      <th>50926</th>\n",
              "      <th>80</th>\n",
              "      <td>378</td>\n",
              "      <td>0.0</td>\n",
              "      <td>4270848.0</td>\n",
              "      <td>2134016.0</td>\n",
              "    </tr>\n",
              "    <tr>\n",
              "      <th>50932</th>\n",
              "      <th>80</th>\n",
              "      <td>361</td>\n",
              "      <td>0.0</td>\n",
              "      <td>4270848.0</td>\n",
              "      <td>2134016.0</td>\n",
              "    </tr>\n",
              "    <tr>\n",
              "      <th>50924</th>\n",
              "      <th>80</th>\n",
              "      <td>335</td>\n",
              "      <td>0.0</td>\n",
              "      <td>4259328.0</td>\n",
              "      <td>2128128.0</td>\n",
              "    </tr>\n",
              "  </tbody>\n",
              "</table>\n",
              "</div>"
            ],
            "text/plain": [
              "                                                                                                            ws_count  ...  ws_median\n",
              "ip.src                                 ip.dst                             ip.proto tcp.srcport tcp.dstport            ...           \n",
              "210.162.147.35                         133.54.30.245                      tcp      57834       443               133  ...    65535.0\n",
              "                                                                                   57847       443                65  ...    65535.0\n",
              "                                                                                   57837       443               419  ...    65535.0\n",
              "                                                                                   57836       443                85  ...    65535.0\n",
              "150.70.185.197                         23.113.51.228                      tcp      53362       443              3248  ...  6333440.0\n",
              "203.85.97.39                           117.230.246.25                     tcp      60321       443               894  ...  2116864.0\n",
              "240b:f853:30a5:9278:32cc:8b96:1b94:e54 2001:1bf0:ea9:90d4:20:1fc:8180:271 tcp      50925       80                385  ...  2134016.0\n",
              "                                                                                   50926       80                378  ...  2134016.0\n",
              "                                                                                   50932       80                361  ...  2134016.0\n",
              "                                                                                   50924       80                335  ...  2128128.0\n",
              "\n",
              "[10 rows x 4 columns]"
            ]
          },
          "metadata": {
            "tags": []
          },
          "execution_count": 61
        }
      ]
    },
    {
      "cell_type": "markdown",
      "metadata": {
        "id": "YqG0EUZpbUUP",
        "colab_type": "text"
      },
      "source": [
        "### NTT analysis\n",
        "\n",
        "The first ip_src belong to the NTT company, let's take each packet from this sorce"
      ]
    },
    {
      "cell_type": "code",
      "metadata": {
        "id": "TjZN3FcmZpR7",
        "colab_type": "code",
        "colab": {
          "base_uri": "https://localhost:8080/",
          "height": 35
        },
        "outputId": "acf53e73-4ede-471b-c5ce-fcb754c8dda2"
      },
      "source": [
        "# select each packet with an ip.src = '210.162.147.35'\n",
        "df_ntt = DF[0][DF[0]['ip.src'] == '210.162.147.35']\n",
        "df_ntt.shape"
      ],
      "execution_count": null,
      "outputs": [
        {
          "output_type": "execute_result",
          "data": {
            "text/plain": [
              "(4929, 9)"
            ]
          },
          "metadata": {
            "tags": []
          },
          "execution_count": 62
        }
      ]
    },
    {
      "cell_type": "code",
      "metadata": {
        "id": "tLwsbkMHb4S3",
        "colab_type": "code",
        "colab": {
          "base_uri": "https://localhost:8080/",
          "height": 279
        },
        "outputId": "aa88fbbf-774d-4fa8-802c-12dcc49c06e0"
      },
      "source": [
        "# plot the window size (log) as function of the arrival time\n",
        "plt.plot(df_ntt['frame.time_relative'],np.log10(1+df_ntt['tcp.window_size']), linestyle = '', marker = '.')\n",
        "plt.xlabel('arrival time [sec]')\n",
        "plt.ylabel('log(window size)')\n",
        "plt.show()\n",
        "\n",
        "# As ve can see there are some fixed length of the window size (strange)"
      ],
      "execution_count": null,
      "outputs": [
        {
          "output_type": "display_data",
          "data": {
            "image/png": "[encoded data removed]",
            "text/plain": [
              "<Figure size 432x288 with 1 Axes>"
            ]
          },
          "metadata": {
            "tags": [],
            "needs_background": "light"
          }
        }
      ]
    },
    {
      "cell_type": "markdown",
      "metadata": {
        "id": "S0IIngtJhOM7",
        "colab_type": "text"
      },
      "source": [
        "### APNIC analysis\n",
        "\n",
        "Let's now to consider this huge company.\n",
        "The mask is 203.85.0.0/16, so let's select all the packets with this mask"
      ]
    },
    {
      "cell_type": "code",
      "metadata": {
        "id": "SE1ugNT5hNtN",
        "colab_type": "code",
        "colab": {
          "base_uri": "https://localhost:8080/",
          "height": 35
        },
        "outputId": "848a8f37-472d-4184-80a1-e9f047d6d6e5"
      },
      "source": [
        "# define the mask and select\n",
        "ip_root = '203.85.'\n",
        "df_apnic = DF[0][DF[0]['ip.src'].str.startswith(ip_root)]\n",
        "\n",
        "print('W.r.t. the total number of packets, those with this netmask are ',round(df_apnic.shape[0]/DF[0].shape[0]*100,3), '%')"
      ],
      "execution_count": null,
      "outputs": [
        {
          "output_type": "stream",
          "text": [
            "W.r.t. the total number of packets, those with this netmask are  5.91 %\n"
          ],
          "name": "stdout"
        }
      ]
    },
    {
      "cell_type": "code",
      "metadata": {
        "id": "VWh958l3jpsG",
        "colab_type": "code",
        "colab": {
          "base_uri": "https://localhost:8080/",
          "height": 279
        },
        "outputId": "c64fdccd-f6f3-4aa5-e04c-a7358238cb61"
      },
      "source": [
        "# plot the window size (log) as function of the arrival time\n",
        "plt.plot(df_apnic['frame.time_relative'], np.log10(1+df_apnic['tcp.window_size']),linestyle = '', marker = '.')\n",
        "plt.xlabel('arrival time [sec]')\n",
        "plt.ylabel('log(window size)')\n",
        "plt.show()\n",
        "\n",
        "# We can see that there are some path not constant, we whould select those"
      ],
      "execution_count": null,
      "outputs": [
        {
          "output_type": "display_data",
          "data": {
            "image/png": "[encoded data removed]",
            "text/plain": [
              "<Figure size 432x288 with 1 Axes>"
            ]
          },
          "metadata": {
            "tags": [],
            "needs_background": "light"
          }
        }
      ]
    },
    {
      "cell_type": "markdown",
      "metadata": {
        "id": "ZsPgisjkknQh",
        "colab_type": "text"
      },
      "source": [
        "#### Look at the single ip\n",
        "\n",
        "\n",
        "\n"
      ]
    },
    {
      "cell_type": "code",
      "metadata": {
        "id": "MGZsDEGpkp1C",
        "colab_type": "code",
        "colab": {
          "base_uri": "https://localhost:8080/",
          "height": 35
        },
        "outputId": "7c978bf1-577b-42b0-ff57-643a73ba8857"
      },
      "source": [
        "# Select all the source IP belongs to APNIC\n",
        "IP_APNIC = df_apnic['ip.src'].value_counts().keys().tolist()\n",
        "print('there are ', len(IP_APNIC), 'source ip belongs to APNIC')\n"
      ],
      "execution_count": null,
      "outputs": [
        {
          "output_type": "stream",
          "text": [
            "there are  456 source ip belongs to APNIC\n"
          ],
          "name": "stdout"
        }
      ]
    },
    {
      "cell_type": "code",
      "metadata": {
        "id": "jsk0wcaFma12",
        "colab_type": "code",
        "colab": {
          "base_uri": "https://localhost:8080/",
          "height": 297
        },
        "outputId": "2595b8ee-49a2-4fbf-a982-24ccd944e1dd"
      },
      "source": [
        "# Plot for a fixet ip_src\n",
        "start = 2\n",
        "stop = 3\n",
        "df_a = df_apnic[df_apnic['ip.src'].isin(IP_APNIC[start: stop])]\n",
        "plt.plot(df_a['frame.time_relative'], np.log10(1+df_a['tcp.window_size']),linestyle = '', marker = '.')\n",
        "plt.xlabel('arrival time [sec]')\n",
        "plt.ylabel('log(window size)')\n",
        "plt.show()\n",
        "\n",
        "print('the ip with this path is ', IP_APNIC[start])"
      ],
      "execution_count": null,
      "outputs": [
        {
          "output_type": "display_data",
          "data": {
            "image/png": "[encoded data removed]",
            "text/plain": [
              "<Figure size 432x288 with 1 Axes>"
            ]
          },
          "metadata": {
            "tags": [],
            "needs_background": "light"
          }
        },
        {
          "output_type": "stream",
          "text": [
            "the ip with this path is  203.85.103.74\n"
          ],
          "name": "stdout"
        }
      ]
    },
    {
      "cell_type": "code",
      "metadata": {
        "id": "Mk28d91tpxrZ",
        "colab_type": "code",
        "colab": {
          "base_uri": "https://localhost:8080/",
          "height": 297
        },
        "outputId": "445765ac-2ed2-4f01-9edb-a496bbec3474"
      },
      "source": [
        "# plot for a fixed ip_dst\n",
        "\n",
        "# destination of the ip_src of before\n",
        "dst_apnic_a = df_a['ip.dst'].value_counts().keys().tolist()\n",
        "\n",
        "# as before but for destination\n",
        "start = 0\n",
        "stop = 1\n",
        "df_b = df_a[df_a['ip.dst'].isin(dst_apnic_a[start: stop])]\n",
        "plt.plot(df_b['frame.time_relative'], np.log10(1+df_b['tcp.window_size']),linestyle = '', marker = '.')\n",
        "plt.xlabel('arrival time [sec]')\n",
        "plt.ylabel('log(window size)')\n",
        "plt.show()\n",
        "\n",
        "print('the ip with this path is ', dst_apnic_a[start])"
      ],
      "execution_count": null,
      "outputs": [
        {
          "output_type": "display_data",
          "data": {
            "image/png": "[encoded data removed]",
            "text/plain": [
              "<Figure size 432x288 with 1 Axes>"
            ]
          },
          "metadata": {
            "tags": [],
            "needs_background": "light"
          }
        },
        {
          "output_type": "stream",
          "text": [
            "the ip with this path is  58.40.68.93\n"
          ],
          "name": "stdout"
        }
      ]
    },
    {
      "cell_type": "markdown",
      "metadata": {
        "id": "wZFAltWvrWJn",
        "colab_type": "text"
      },
      "source": [
        "## Neither TCP nor UDP analysis\n",
        "\n",
        "Let's now see the distribution of the protocols of those packets neither TCP nor UDP\n"
      ]
    },
    {
      "cell_type": "code",
      "metadata": {
        "id": "4kmjA_K4ra1-",
        "colab_type": "code",
        "colab": {
          "base_uri": "https://localhost:8080/",
          "height": 52
        },
        "outputId": "e922f076-4eb7-4627-8e20-0577384955f7"
      },
      "source": [
        "# a list to store the packets\n",
        "DF_single_type = []\n",
        "\n",
        "start = time.time()\n",
        "# choose the number of chunks to analyze\n",
        "for j in range(4):\n",
        "  \n",
        "  # read the .csv\n",
        "  df_others = pd.read_csv('/content/drive/My Drive/NBDLab/data/split/csv_finali/'+str(j)+'_others.csv')\n",
        "\n",
        "  # add the right amount of seconds\n",
        "  df_others['frame.time_relative'] = df_others['frame.time_relative'] + 30*j\n",
        "\n",
        "  DF_single_type.append(df_others)\n",
        "\n",
        "print(time.time()-start)\n",
        "# concatenate all the dataframes\n",
        "DF_others = pd.concat(DF_single_type)\n",
        "\n",
        "# free up memory space\n",
        "DF_single_type = []\n",
        "print(time.time()-start)"
      ],
      "execution_count": null,
      "outputs": [
        {
          "output_type": "stream",
          "text": [
            "1.0988898277282715\n",
            "1.1484825611114502\n"
          ],
          "name": "stdout"
        }
      ]
    },
    {
      "cell_type": "code",
      "metadata": {
        "id": "yIH9JgBVssKj",
        "colab_type": "code",
        "colab": {
          "base_uri": "https://localhost:8080/",
          "height": 173
        },
        "outputId": "742d854a-af2f-4618-9303-28a1c3a14907"
      },
      "source": [
        "# let's count the type of protocols\n",
        "\n",
        "df_others['_ws.col.Protocol'].value_counts()"
      ],
      "execution_count": null,
      "outputs": [
        {
          "output_type": "execute_result",
          "data": {
            "text/plain": [
              "ICMP       277422\n",
              "ESP          5457\n",
              "IPv4         4036\n",
              "ARP          3280\n",
              "ICMPv6       1189\n",
              "ETHERIP       576\n",
              "IPv6           38\n",
              "PIM             4\n",
              "Name: _ws.col.Protocol, dtype: int64"
            ]
          },
          "metadata": {
            "tags": []
          },
          "execution_count": 15
        }
      ]
    },
    {
      "cell_type": "markdown",
      "metadata": {
        "id": "GP3rBJbDuazP",
        "colab_type": "text"
      },
      "source": [
        "#### What the APNIC do the most with this type of protocols?"
      ]
    },
    {
      "cell_type": "code",
      "metadata": {
        "id": "Wir-H3E6u6vi",
        "colab_type": "code",
        "colab": {
          "base_uri": "https://localhost:8080/",
          "height": 295
        },
        "outputId": "3e5a70d4-9a4a-4e10-cc95-47ba26d72ba7"
      },
      "source": [
        "# there are some nan in ip_src, so lets drop those rows\n",
        "print(' befor drop')\n",
        "print(df_others.isna().sum())\n",
        "\n",
        "df_others_n = df_others.dropna()\n",
        "print('\\n\\n after drop')\n",
        "print(df_others_n.isna().sum())"
      ],
      "execution_count": null,
      "outputs": [
        {
          "output_type": "stream",
          "text": [
            " befor drop\n",
            "frame.time_relative       0\n",
            "_ws.col.Protocol          0\n",
            "ip.src                 7518\n",
            "ip.dst                 7518\n",
            "frame.len                 0\n",
            "dtype: int64\n",
            "\n",
            "\n",
            " after drop\n",
            "frame.time_relative    0\n",
            "_ws.col.Protocol       0\n",
            "ip.src                 0\n",
            "ip.dst                 0\n",
            "frame.len              0\n",
            "dtype: int64\n"
          ],
          "name": "stdout"
        }
      ]
    },
    {
      "cell_type": "code",
      "metadata": {
        "id": "NQhoxQjiuSvK",
        "colab_type": "code",
        "colab": {
          "base_uri": "https://localhost:8080/",
          "height": 156
        },
        "outputId": "6d0a6b8d-924b-4f79-cff4-f8fb14080dc9"
      },
      "source": [
        "# define the mask and select\n",
        "ip_root = '203.85.'\n",
        "df_apnic_others = df_others_n[df_others_n['ip.src'].str.startswith(ip_root)]\n",
        "df_apnic_count_others = df_apnic_others['_ws.col.Protocol'].value_counts()\n",
        "print(df_apnic_count_others, '\\n\\n')\n",
        "\n",
        "# this are a lot of packets... ICMC o\n",
        "print(round(df_apnic_count_others[0]/df_others['_ws.col.Protocol'].value_counts()[0]*100, 3), '% of the ICMP come from APNIC') "
      ],
      "execution_count": null,
      "outputs": [
        {
          "output_type": "stream",
          "text": [
            "ICMP      254362\n",
            "IPv4         110\n",
            "ICMPv6         2\n",
            "PIM            2\n",
            "Name: _ws.col.Protocol, dtype: int64 \n",
            "\n",
            "\n",
            "91.688 % of the ICMP come from APNIC\n"
          ],
          "name": "stdout"
        }
      ]
    },
    {
      "cell_type": "code",
      "metadata": {
        "id": "h-SHyj9YwQe-",
        "colab_type": "code",
        "colab": {
          "base_uri": "https://localhost:8080/",
          "height": 35
        },
        "outputId": "d4072fad-e9dc-4a2e-fb58-db6032a7aee0"
      },
      "source": [
        "# how many packet comes from APNIC in others:\n",
        "print(round(df_apnic_others.shape[0]/df_others.shape[0]*100, 3), '% of the packets come from APNIC') "
      ],
      "execution_count": null,
      "outputs": [
        {
          "output_type": "stream",
          "text": [
            "87.149 % of the packets come from APNIC\n"
          ],
          "name": "stdout"
        }
      ]
    },
    {
      "cell_type": "markdown",
      "metadata": {
        "id": "xri2pNlswEIj",
        "colab_type": "text"
      },
      "source": [
        "As we can see a huge part of this packets belong to APNIC "
      ]
    }
  ]
}