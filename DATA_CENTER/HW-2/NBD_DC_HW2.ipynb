{
  "nbformat": 4,
  "nbformat_minor": 0,
  "metadata": {
    "colab": {
      "name": "HW2_NBD_DC",
      "provenance": [],
      "collapsed_sections": [],
      "toc_visible": true
    },
    "kernelspec": {
      "name": "python3",
      "display_name": "Python 3"
    }
  },
  "cells": [
    {
      "cell_type": "markdown",
      "metadata": {
        "id": "gCiEoxo2ZJbu",
        "colab_type": "text"
      },
      "source": [
        "# This is for jsq, pod, nostro (not for jbt)\n"
      ]
    },
    {
      "cell_type": "code",
      "metadata": {
        "id": "nk37DfclIwLl",
        "colab_type": "code",
        "colab": {}
      },
      "source": [
        "from random import *\n",
        "#import random\n",
        "from math import *\n",
        "import numpy as np\n",
        "import time \n",
        "import matplotlib.pyplot as plt\n",
        "import csv\n",
        "import pandas as pd\n",
        "\n",
        "# constant:\n",
        "T_0=1\n",
        "q=3/5\n",
        "E_Y=10\n",
        "a=1/2 # =>gamma(2+1)=2!=2\n",
        "N=20\n",
        "\n",
        "\n",
        "def beta(ro, N=N, t0=T_0, q=q, EY=E_Y):\n",
        "    return (ro*N*(t0+(1-q)*EY))/2\n",
        "\n",
        "def sample_inter_arrival(T0=T_0, Y_mean=E_Y):\n",
        "    r1, r2 = random(), random()\n",
        "    T=None\n",
        "    if r1<q:\n",
        "        T=T0\n",
        "    else:\n",
        "        T=round(T0-Y_mean*log(r2), 0)\n",
        "    return T\n",
        "\n",
        "def sample_processing_time(bet, a=a):\n",
        "    r3=random()\n",
        "    return max(1, min(100*2*bet, round(bet*(-log(r3))**(1/a), 0)))\n",
        "\n",
        "\n",
        "def longest_residual_time(servers):\n",
        "    vuota = []\n",
        "    for i in range(N):\n",
        "        vuota.append(sum(servers[i][1]))\n",
        "    return max(vuota)\n",
        "\n",
        "def time_goes_on_server(server, dt):\n",
        "    #print(server[1][0], dt)\n",
        "    try:\n",
        "        #print(server[1][0], dt)\n",
        "        if server[1][0] <= dt:\n",
        "         #   print('e')\n",
        "            residual = dt - server[1][0]\n",
        "          #  print('a')\n",
        "            del server[0][0]\n",
        "            del server[1][0]\n",
        "            if residual > 0:\n",
        "           #     print('b')\n",
        "                time_goes_on_server(server, residual)\n",
        "        else:\n",
        "            #print('c')\n",
        "            #server1 = server\n",
        "            server[1][0] -= dt\n",
        "    except:\n",
        "      #  print('d')\n",
        "        pass\n",
        "    return\n",
        "\n",
        "\n",
        "# our\n",
        "def shorter_queue_time_inventato(servers):\n",
        "    vuota = []\n",
        "    for i in range(N):\n",
        "        vuota.append(sum(servers[i][1]))\n",
        "    return vuota.index(min(vuota))\n",
        "\n",
        "##### prove jsq\n",
        "def choose_with_jsq(servers):\n",
        "    vuota = []\n",
        "    for i in range(N):\n",
        "        vuota.append(len(servers[i][0]))\n",
        "    return vuota.index(min(vuota))   \n",
        "\n",
        "\n",
        "##### prove pod\n",
        "def choose_with_pod_d(servers):\n",
        "    vuota = []\n",
        "    a = sample(list_servers, 3)\n",
        "    for i in a:\n",
        "        vuota.append(len(servers[i][0]))\n",
        "    return a[vuota.index(min(vuota))]\n",
        "\n",
        "\n"
      ],
      "execution_count": null,
      "outputs": []
    },
    {
      "cell_type": "code",
      "metadata": {
        "id": "5nL4nSoLJCLH",
        "colab_type": "code",
        "colab": {
          "base_uri": "https://localhost:8080/",
          "height": 35
        },
        "outputId": "4839db3d-7e17-466d-c976-26b80a957cdd"
      },
      "source": [
        "inter_iter = 20\n",
        "rhos = np.append(np.arange(0.8, 1, 0.02, dtype = float), 0.99).round(2)\n",
        "print('#ro', len(rhos), 'rhos',  rhos)\n",
        "iterazioni=101000\n",
        "scarto = 1000\n",
        "\n",
        "\n",
        "list_servers = [i for i in range(N)]\n"
      ],
      "execution_count": null,
      "outputs": [
        {
          "output_type": "stream",
          "text": [
            "#ro 11 rhos [0.8  0.82 0.84 0.86 0.88 0.9  0.92 0.94 0.96 0.98 0.99]\n"
          ],
          "name": "stdout"
        }
      ]
    },
    {
      "cell_type": "code",
      "metadata": {
        "id": "RQFD9xCEJF9E",
        "colab_type": "code",
        "colab": {
          "base_uri": "https://localhost:8080/",
          "height": 237
        },
        "outputId": "78a310de-0c3f-49aa-f0ef-158c09149b37"
      },
      "source": [
        "start=time.time()\n",
        "#start=tempo.time()\n",
        "E_D_rho = []\n",
        "real_rho = []\n",
        "sd = []\n",
        "ci = []\n",
        "for rho in rhos:\n",
        "    print(rho, time.time()-start)\n",
        "\n",
        "    # evaluate beta\n",
        "    bet = beta(rho)\n",
        "    E_D = []\n",
        "    before_mean_rhos = []\n",
        "    for _ in range(inter_iter):         # this loop is for the mean\n",
        "        arrivals_samples=[int(round(sample_inter_arrival(), 0)) for i in range(iterazioni)]   \n",
        "        arrival_times=list(np.cumsum(arrivals_samples))\n",
        "        arrival_times.insert(0,0)\n",
        "        E_T = np.mean(arrivals_samples)\n",
        "\n",
        "        \n",
        "        # for each server i built a list  [[task_1, .., task_n], [time_task_1, .., time_task_n]]\n",
        "        servers = {i:[[], []] for i in range(N)}\n",
        "        time_inside_servers = []\n",
        "        # sample processing_time w.r.t. beta(rho)\n",
        "        processing_samples=[int(round(sample_processing_time(bet), 0)) for i in range(iterazioni)]\n",
        "        E_X = np.mean(processing_samples)\n",
        "        before_mean_rhos.append(E_X/(N*E_T))\n",
        "        #print(processing_samples)\n",
        "        for i in range(iterazioni):\n",
        "            t = arrival_times[i+1] # this time\n",
        "            dt = t - arrival_times[i] # this - previous \n",
        "            for j in range(N):\n",
        "                time_goes_on_server(servers[j], dt)\n",
        "            '''\n",
        "            nostro inventato\n",
        "            '''\n",
        "            #shorter = shorter_queue_time_inventato(servers)\n",
        "            \n",
        "            '''\n",
        "            jsq\n",
        "            '''\n",
        "            #shorter = choose_with_jsq(servers)\n",
        "            \n",
        "            \n",
        "            '''\n",
        "            Pod_d\n",
        "            '''\n",
        "            shorter = choose_with_pod_d(servers)\n",
        "            \n",
        "\n",
        "            servers[shorter][0].append(i)\n",
        "            servers[shorter][1].append(processing_samples[i])\n",
        "            time_inside_servers.append(sum(servers[shorter][1]))\n",
        "        \n",
        "        E_D.append(np.mean(time_inside_servers[scarto:]))\n",
        "        #tempo_fin = arrival_times[-1] + longest_residual_time(servers)\n",
        "    E_D_rho.append(np.mean(E_D))\n",
        "    real_rho.append(np.mean(before_mean_rhos))\n",
        "    sd.append(np.std(E_D))\n",
        "    ci.append((np.std(E_D)*1.96)/np.sqrt(len(real_rho)))\n",
        "            \n",
        "            \n",
        "print(time.time()-start)       \n"
      ],
      "execution_count": null,
      "outputs": [
        {
          "output_type": "stream",
          "text": [
            "0.8 0.0003619194030761719\n",
            "0.82 44.48671364784241\n",
            "0.84 89.189772605896\n",
            "0.86 133.99776434898376\n",
            "0.88 178.95992493629456\n",
            "0.9 224.17211437225342\n",
            "0.92 269.60946440696716\n",
            "0.94 315.37452721595764\n",
            "0.96 361.737224817276\n",
            "0.98 408.9085690975189\n",
            "0.99 458.3587911128998\n",
            "510.4026107788086\n"
          ],
          "name": "stdout"
        }
      ]
    },
    {
      "cell_type": "code",
      "metadata": {
        "id": "sol4VrzrJTVx",
        "colab_type": "code",
        "colab": {
          "base_uri": "https://localhost:8080/",
          "height": 357
        },
        "outputId": "433b73ec-b6dc-4358-8dd4-b4e5ad69c82f"
      },
      "source": [
        "\n",
        "vuota = []\n",
        "for i in range(N):\n",
        "    vuota.append(sum(servers[i][1]))\n",
        "\n",
        "\n",
        "print(np.array(vuota)/ sum(vuota))\n",
        "\n",
        "\n",
        "plt.plot(real_rho,E_D_rho)\n",
        "#plt.axis([0.78,1,0,3200,])\n"
      ],
      "execution_count": null,
      "outputs": [
        {
          "output_type": "stream",
          "text": [
            "[0.04995315 0.04591086 0.03113372 0.05380806 0.02658279 0.05185383\n",
            " 0.05366082 0.0360862  0.05454424 0.04806585 0.03390443 0.03500201\n",
            " 0.09567662 0.03774595 0.03251238 0.04429126 0.08049793 0.04635256\n",
            " 0.09088475 0.05153259]\n"
          ],
          "name": "stdout"
        },
        {
          "output_type": "execute_result",
          "data": {
            "text/plain": [
              "[<matplotlib.lines.Line2D at 0x7fa1a26b8940>]"
            ]
          },
          "metadata": {
            "tags": []
          },
          "execution_count": 4
        },
        {
          "output_type": "display_data",
          "data": {
            "image/png": "[encoded data removed]",
            "text/plain": [
              "<Figure size 432x288 with 1 Axes>"
            ]
          },
          "metadata": {
            "tags": [],
            "needs_background": "light"
          }
        }
      ]
    },
    {
      "cell_type": "code",
      "metadata": {
        "id": "3bPNBxdgI3qv",
        "colab_type": "code",
        "colab": {}
      },
      "source": [
        "mean_msg = [2*3 for i in range(len(real_rho))]\n",
        "\n",
        "\n",
        "d  = {'Rho' : rhos, 'Mean_Time':E_D_rho,'Mean_Msg': mean_msg, 'Rho_Emp':real_rho,'CI': ci}\n",
        "df = pd.DataFrame(data=d)    \n",
        "    \n",
        "df.to_csv('pod.csv', index = False)\n"
      ],
      "execution_count": null,
      "outputs": []
    },
    {
      "cell_type": "markdown",
      "metadata": {
        "id": "5PeEc81QZfke",
        "colab_type": "text"
      },
      "source": [
        " # This is for JBT\n"
      ]
    },
    {
      "cell_type": "code",
      "metadata": {
        "id": "9rbnH9jxZj-0",
        "colab_type": "code",
        "colab": {}
      },
      "source": [
        "from random import *\n",
        "#import random\n",
        "from math import *\n",
        "import numpy as np\n",
        "import time \n",
        "import matplotlib.pyplot as plt\n",
        "import csv\n",
        "import pandas as pd\n",
        "import copy\n",
        "\n",
        "# constant:\n",
        "T_0=1\n",
        "q=3/5\n",
        "E_Y=10\n",
        "a=1/2 # =>gamma(2+1)=2!=2\n",
        "N=20\n",
        "\n",
        "\n",
        "def beta(ro, N=N, t0=T_0, q=q, EY=E_Y):\n",
        "    return (ro*N*(t0+(1-q)*EY))/2\n",
        "\n",
        "def sample_inter_arrival(T0=T_0, Y_mean=E_Y):\n",
        "    r1, r2 = random(), random()\n",
        "    T=None\n",
        "    if r1<q:\n",
        "        T=T0\n",
        "    else:\n",
        "        T=round(T0-Y_mean*log(r2), 0)\n",
        "    return T\n",
        "\n",
        "def sample_processing_time(bet, a=a):\n",
        "    r3=random()\n",
        "    return max(1, min(100*2*bet, round(bet*(-log(r3))**(1/a), 0)))\n",
        "\n",
        "\n",
        "def longest_residual_time(servers):\n",
        "    vuota = []\n",
        "    for i in range(N):\n",
        "        vuota.append(sum(servers[i][1]))\n",
        "    return max(vuota)\n",
        "\n",
        "def time_goes_on_server(server, dt, number_server, threshold, ones, messaggi_it):\n",
        "    #print(server[1][0], dt)\n",
        "    try:\n",
        "     #   print(server[1][0], dt)\n",
        "        if server[1][0] <= dt:\n",
        "            residual = dt - server[1][0]\n",
        "           \n",
        "#            print('a',server[1][0], dt, residual, number_server, threshold)\n",
        "            del server[0][0]\n",
        "            del server[1][0]\n",
        "\n",
        "            if len(server[1]) <= threshold:\n",
        "                messaggi_it += 1\n",
        " #               print('in', ones)\n",
        "                ones.append(number_server)\n",
        "  #              print(ones)\n",
        "            #print('a')\n",
        "            if residual > 0:\n",
        "   #             print('b', residual)\n",
        "                time_goes_on_server(server, residual, number_server, threshold, ones, messaggi_it)\n",
        "        else:\n",
        "    #        print('c',server[1][0], dt, number_server, threshold)\n",
        "            #server1 = server\n",
        "            server[1][0] -= dt\n",
        "    except:\n",
        "     #   print('d',server, dt, number_server, threshold)\n",
        "        pass\n",
        "    return\n",
        "\n",
        "\n",
        "##### prove JBT-d\n",
        "def threshold_with_jbt_d(servers):\n",
        "    vuota = []\n",
        "    where = sample(list_servers, 3)\n",
        "    what.append(where)\n",
        " #   print(where)\n",
        "    for i in where:\n",
        "        vuota.append(len(servers[i][0]))\n",
        "    threshold = min(vuota)-1\n",
        "    return max(1,threshold)#int(np.mean(vuota)))\n",
        "\n",
        "def build_ones_with_jbt_d(servers, threshold):\n",
        "    ones = []\n",
        "    for i in range(N):\n",
        "        if len(servers[i][0])<=threshold:\n",
        "            #print(i, servers[i][0])\n",
        "            ones.append(i)\n",
        "            #print(i, ones)\n",
        "    return ones\n",
        "\n",
        "def choose_with_jbt_d(servers, ones):\n",
        "    if len(ones) != 0:\n",
        "        out  = sample(ones, 1)\n",
        "        ones.remove(out[0])\n",
        "    else:\n",
        "        out  = sample(list_servers, 1)\n",
        "    return out[0]\n",
        "\n"
      ],
      "execution_count": null,
      "outputs": []
    },
    {
      "cell_type": "code",
      "metadata": {
        "id": "vEH3l5psZoEK",
        "colab_type": "code",
        "colab": {
          "base_uri": "https://localhost:8080/",
          "height": 35
        },
        "outputId": "7f189384-69d6-491e-fc32-3806377313dd"
      },
      "source": [
        "inter_iter = 20\n",
        "rhos = np.append(np.arange(0.8, 1, 0.02, dtype = float), 0.99).round(2)\n",
        "print('#ro', len(rhos), 'rhos',  rhos)\n",
        "iterazioni=101000\n",
        "scarto = 1000\n",
        "sondaggio_ogni = 1000\n",
        "\n",
        "list_servers = [i for i in range(N)]"
      ],
      "execution_count": null,
      "outputs": [
        {
          "output_type": "stream",
          "text": [
            "#ro 11 rhos [0.8  0.82 0.84 0.86 0.88 0.9  0.92 0.94 0.96 0.98 0.99]\n"
          ],
          "name": "stdout"
        }
      ]
    },
    {
      "cell_type": "code",
      "metadata": {
        "id": "fWtlbaOZZs4k",
        "colab_type": "code",
        "colab": {}
      },
      "source": [
        "SERVERS = []\n",
        "\n",
        "start=time.time()\n",
        "#start=tempo.time()\n",
        "E_D_rho = []\n",
        "real_rho = []\n",
        "sd = []\n",
        "ci = []\n",
        "len_of_ones = []\n",
        "r = []\n",
        "what = []\n",
        "Messaggi = []\n",
        "for rho in rhos:\n",
        "    print(rho, time.time()-start)\n",
        "\n",
        "    # evaluate beta\n",
        "    bet = beta(rho)\n",
        "    print(bet)\n",
        "    E_D = []\n",
        "    before_mean_rhos = []\n",
        "    len_of_ones_rho = []\n",
        "    r_rho = []\n",
        "    messaggi_rho = []\n",
        "\n",
        "    for _ in range(inter_iter):         # this loop is for the mean\n",
        "        #print(_)\n",
        "        arrivals_samples=[int(round(sample_inter_arrival(), 0)) for i in range(iterazioni)]   \n",
        "        arrival_times=list(np.cumsum(arrivals_samples))\n",
        "        arrival_times.insert(0,0)\n",
        "        E_T = np.mean(arrivals_samples)\n",
        "\n",
        "        '''\n",
        "        only for JBT\n",
        "        '''\n",
        "        jbt_sample = np.diff(np.array(arrival_times)%sondaggio_ogni)\n",
        "\n",
        "        # for each server i built a list  [[task_1, .., task_n], [time_task_1, .., time_task_n]]\n",
        "        servers = {i:[[], []] for i in range(N)}\n",
        "        time_inside_servers = []\n",
        "        # sample processing_time w.r.t. beta(rho)\n",
        "        processing_samples=[int(round(sample_processing_time(bet), 0)) for i in range(iterazioni)]\n",
        "        E_X = np.mean(processing_samples)\n",
        "        before_mean_rhos.append(E_X/(N*E_T))\n",
        "\n",
        "        len_of_ones_it = []\n",
        "        r_it = []\n",
        "        messaggi_it = 0\n",
        "\n",
        "        threshold = 1\n",
        "        ones=[]\n",
        "        #print(processing_samples)\n",
        "        for i in range(iterazioni):\n",
        "            t = arrival_times[i+1] # this time\n",
        "            dt = t - arrival_times[i] # this - previous \n",
        "            for j in range(N):\n",
        "                time_goes_on_server(servers[j], dt, j, threshold, ones, messaggi_it)\n",
        "            '''\n",
        "            nostro inventato\n",
        "            '''\n",
        "            #shorter = shorter_queue_time_inventato(servers)\n",
        "            \n",
        "            '''\n",
        "            jsq\n",
        "            '''\n",
        "            #shorter = choose_with_jsq(servers)\n",
        "            \n",
        "            \n",
        "            '''\n",
        "            Pod_d\n",
        "            '''\n",
        "            #shorter = choose_with_pod_d(servers)\n",
        "            \n",
        "\n",
        "            '''\n",
        "            JBT_d\n",
        "            '''\n",
        "         \n",
        "            if arrival_times[i] == 0 or jbt_sample[i] <0:\n",
        " \n",
        "              threshold = threshold_with_jbt_d(servers)\n",
        "              r_it.append(threshold)\n",
        "              ones = build_ones_with_jbt_d(servers, threshold)\n",
        "              messaggi_it += 2*3+N+len(ones)\n",
        "  \n",
        "              SERVERS.append(copy.deepcopy(servers))\n",
        "    \n",
        "            len_of_ones_it.append(len(ones))\n",
        "            shorter = choose_with_jbt_d(servers, ones)\n",
        "            \n",
        "\n",
        "            '''\n",
        "            random\n",
        "            '''\n",
        "            #shorter = sample(list_servers,1)[0]\n",
        "            \n",
        "\n",
        "            servers[shorter][0].append(i)\n",
        "            servers[shorter][1].append(processing_samples[i])\n",
        "            time_inside_servers.append(sum(servers[shorter][1]))\n",
        "\n",
        "        len_of_ones_rho.append(len_of_ones_it)\n",
        "        r_rho.append(r_it)\n",
        "        messaggi_rho.append(messaggi_it)\n",
        "        E_D.append(np.mean(time_inside_servers[scarto:]))\n",
        "        #tempo_fin = arrival_times[-1] + longest_residual_time(servers)\n",
        "    E_D_rho.append(np.mean(E_D))\n",
        "    real_rho.append(np.mean(before_mean_rhos))\n",
        "    sd.append(np.std(E_D))\n",
        "    ci.append((np.std(E_D)*1.96)/np.sqrt(len(real_rho)))\n",
        "    len_of_ones.append(np.mean(np.array(len_of_ones_rho), axis=0))\n",
        "    r.append(r_rho)\n",
        "    Messaggi.append(np.mean(messaggi_rho))\n",
        "  \n",
        "            \n",
        "print(time.time()-start)       \n"
      ],
      "execution_count": null,
      "outputs": []
    },
    {
      "cell_type": "code",
      "metadata": {
        "id": "RjbqwsvHrdqA",
        "colab_type": "code",
        "colab": {}
      },
      "source": [
        "E_D_rho"
      ],
      "execution_count": null,
      "outputs": []
    },
    {
      "cell_type": "code",
      "metadata": {
        "id": "ITm5j7Vvbx0B",
        "colab_type": "code",
        "colab": {
          "base_uri": "https://localhost:8080/",
          "height": 609
        },
        "outputId": "75f064c4-3b67-4a90-be3d-54dfe20667a7"
      },
      "source": [
        "vuota = []\n",
        "for i in range(N):\n",
        "    vuota.append(sum(servers[i][1]))\n",
        "\n",
        "\n",
        "print(np.array(vuota)/ sum(vuota))\n",
        "\n",
        "\n",
        "plt.plot(real_rho,E_D_rho)\n",
        "plt.show()\n",
        "plt.plot(real_rho, np.array(Messaggi)/iterazioni)\n",
        "#plt.axis([0.78,1,0,3200,])\n",
        "#plt.plot(r[1])"
      ],
      "execution_count": null,
      "outputs": [
        {
          "output_type": "stream",
          "text": [
            "[0.06624085 0.04821983 0.08759585 0.05118532 0.02305708 0.11321483\n",
            " 0.07696222 0.05086947 0.01414308 0.03516468 0.04641247 0.0248469\n",
            " 0.0213199  0.06971521 0.05229079 0.06102932 0.0340592  0.04369264\n",
            " 0.03497166 0.04500869]\n"
          ],
          "name": "stdout"
        },
        {
          "output_type": "display_data",
          "data": {
            "image/png": "[encoded data removed]",
            "text/plain": [
              "<Figure size 432x288 with 1 Axes>"
            ]
          },
          "metadata": {
            "tags": [],
            "needs_background": "light"
          }
        },
        {
          "output_type": "execute_result",
          "data": {
            "text/plain": [
              "[<matplotlib.lines.Line2D at 0x7fad9045f128>]"
            ]
          },
          "metadata": {
            "tags": []
          },
          "execution_count": 4
        },
        {
          "output_type": "display_data",
          "data": {
            "image/png": "[encoded data removed]",
            "text/plain": [
              "<Figure size 432x288 with 1 Axes>"
            ]
          },
          "metadata": {
            "tags": [],
            "needs_background": "light"
          }
        }
      ]
    },
    {
      "cell_type": "code",
      "metadata": {
        "id": "_L1swJ8nIrcf",
        "colab_type": "code",
        "colab": {}
      },
      "source": [
        "\n",
        "d  = {'Rho' : rhos, 'Mean_Time':E_D_rho,'Mean_Msg': np.array(Messaggi)/iterazioni, 'Rho_Emp':real_rho,'CI': ci}\n",
        "df = pd.DataFrame(data=d)    \n",
        "    \n",
        "df.to_csv('jbt.csv', index = False)\n",
        "\n",
        "\n"
      ],
      "execution_count": null,
      "outputs": []
    },
    {
      "cell_type": "code",
      "metadata": {
        "id": "xE2NqDWfe7Bf",
        "colab_type": "code",
        "colab": {}
      },
      "source": [
        "for j in range(len(rhos)):\n",
        "  #plt.plot(len_of_ones[j])\n",
        "  #plt.show()\n",
        "  print(np.mean(len_of_ones[j]))"
      ],
      "execution_count": null,
      "outputs": []
    },
    {
      "cell_type": "code",
      "metadata": {
        "id": "HQj2BhzacR67",
        "colab_type": "code",
        "colab": {
          "base_uri": "https://localhost:8080/",
          "height": 35
        },
        "outputId": "e5935da3-425d-49b4-c971-e21059778dee"
      },
      "source": [
        "summ = 0\n",
        "for j in list_servers:\n",
        "  summ += len(servers[j][0])\n",
        "summ\n"
      ],
      "execution_count": null,
      "outputs": [
        {
          "output_type": "execute_result",
          "data": {
            "text/plain": [
              "11000"
            ]
          },
          "metadata": {
            "tags": []
          },
          "execution_count": 16
        }
      ]
    },
    {
      "cell_type": "code",
      "metadata": {
        "id": "lSWsRMZYlSmN",
        "colab_type": "code",
        "colab": {
          "base_uri": "https://localhost:8080/",
          "height": 268
        },
        "outputId": "52b1b2d1-db2d-4c8d-e45c-aa4383919bfc"
      },
      "source": [
        "for j in range(len(rhos)):\n",
        "  plt.hist(len_of_ones[j], bins=20, density=True)\n",
        "  plt.show()"
      ],
      "execution_count": null,
      "outputs": [
        {
          "output_type": "display_data",
          "data": {
            "image/png": "[encoded data removed]",
            "text/plain": [
              "<Figure size 432x288 with 1 Axes>"
            ]
          },
          "metadata": {
            "tags": [],
            "needs_background": "light"
          }
        }
      ]
    },
    {
      "cell_type": "code",
      "metadata": {
        "id": "AjAXi65gd9gA",
        "colab_type": "code",
        "colab": {
          "base_uri": "https://localhost:8080/",
          "height": 320
        },
        "outputId": "f4519dbc-8188-46f2-b467-390911485ab8"
      },
      "source": [
        "plt.hist(r[0][0])"
      ],
      "execution_count": null,
      "outputs": [
        {
          "output_type": "execute_result",
          "data": {
            "text/plain": [
              "(array([54.,  0.,  0.,  0.,  0.,  1.,  0.,  1.,  0.,  1.]),\n",
              " array([1. , 1.4, 1.8, 2.2, 2.6, 3. , 3.4, 3.8, 4.2, 4.6, 5. ]),\n",
              " <a list of 10 Patch objects>)"
            ]
          },
          "metadata": {
            "tags": []
          },
          "execution_count": 27
        },
        {
          "output_type": "display_data",
          "data": {
            "image/png": "[encoded data removed]",
            "text/plain": [
              "<Figure size 432x288 with 1 Axes>"
            ]
          },
          "metadata": {
            "tags": [],
            "needs_background": "light"
          }
        }
      ]
    },
    {
      "cell_type": "code",
      "metadata": {
        "id": "AqFDo9CVgyhh",
        "colab_type": "code",
        "colab": {}
      },
      "source": [
        "for s in range(len(SERVERS)):\n",
        "  print('SERVERS = ', s)\n",
        "  a = []\n",
        "  for j in range(N):\n",
        "    #print('server = ', j, 'len = ', len(SERVERS[s][j][1]))\n",
        "    a.append(len(SERVERS[s][j][1]))\n",
        "  plt.plot(a, marker = 'd', linestyle ='')\n",
        "  plt.hlines(y = r[0][0][s], xmin=0, xmax=20)\n",
        "  plt.show()"
      ],
      "execution_count": null,
      "outputs": []
    },
    {
      "cell_type": "code",
      "metadata": {
        "id": "duVmfyd_iegr",
        "colab_type": "code",
        "colab": {}
      },
      "source": [
        "'''\n",
        "# with only one\n",
        "for s in range(len(SERVERS)):\n",
        "  print(SERVERS[s])\n",
        "'''\n",
        "\n",
        "for s in range(len(SERVERS)):\n",
        "  print('SERVERS = ', s)\n",
        "  a = []\n",
        "  b = []\n",
        "  for j in range(N):\n",
        "    a.append(len(SERVERS[s][j][1]))\n",
        "    b.append(sum(SERVERS[s][j][1]))\n",
        "  print(min(a[what[s][0]],a[what[s][1]],a[what[s][2]]), r[0][0][s], np.mean(a), a, what[s][0],what[s][1],what[s][2])\n",
        "  print(b)\n"
      ],
      "execution_count": null,
      "outputs": []
    },
    {
      "cell_type": "markdown",
      "metadata": {
        "id": "cphqS5GPSOts",
        "colab_type": "text"
      },
      "source": [
        "# With uncertanty"
      ]
    },
    {
      "cell_type": "code",
      "metadata": {
        "id": "H2FLFFCRSUGy",
        "colab_type": "code",
        "colab": {}
      },
      "source": [
        "from random import *\n",
        "#import random\n",
        "from math import *\n",
        "import numpy as np\n",
        "import time \n",
        "import matplotlib.pyplot as plt\n",
        "import csv\n",
        "import pandas as pd\n",
        "\n",
        "# constant:\n",
        "T_0=1\n",
        "q=3/5\n",
        "E_Y=10\n",
        "a=1/2 # =>gamma(2+1)=2!=2\n",
        "N=20\n",
        "\n",
        "\n",
        "def beta(ro, N=N, t0=T_0, q=q, EY=E_Y):\n",
        "    return (ro*N*(t0+(1-q)*EY))/2\n",
        "\n",
        "def sample_inter_arrival(T0=T_0, Y_mean=E_Y):\n",
        "    r1, r2 = random(), random()\n",
        "    T=None\n",
        "    if r1<q:\n",
        "        T=T0\n",
        "    else:\n",
        "        T=round(T0-Y_mean*log(r2), 0)\n",
        "    return T\n",
        "\n",
        "def sample_processing_time(bet, a=a):\n",
        "    r3=random()\n",
        "    return max(1, min(100*2*bet, round(bet*(-log(r3))**(1/a), 0)))\n",
        "\n",
        "\n",
        "def longest_residual_time(servers):\n",
        "    vuota = []\n",
        "    for i in range(N):\n",
        "        vuota.append(sum(servers[i][1]))\n",
        "    return max(vuota)\n",
        "\n",
        "def time_goes_on_server(server, dt):\n",
        "    #print(server[1][0], dt)\n",
        "    try:\n",
        "        #print(server[1][0], dt)\n",
        "        if server[1][0] <= dt:\n",
        "         #   print('e')\n",
        "            residual = dt - server[1][0]\n",
        "          #  print('a')\n",
        "            del server[0][0]\n",
        "            del server[1][0]\n",
        "            if residual > 0:\n",
        "           #     print('b')\n",
        "                time_goes_on_server(server, residual)\n",
        "        else:\n",
        "            #print('c')\n",
        "            #server1 = server\n",
        "            server[1][0] -= dt\n",
        "    except:\n",
        "      #  print('d')\n",
        "        pass\n",
        "    return\n",
        "\n",
        "\n",
        "# our\n",
        "def shorter_queue_time_inventato(servers):\n",
        "    vuota = []\n",
        "    for i in range(N):\n",
        "        vuota.append(sum(servers[i][1]))\n",
        "    return vuota.index(min(vuota))\n"
      ],
      "execution_count": null,
      "outputs": []
    },
    {
      "cell_type": "code",
      "metadata": {
        "id": "4sVR08uSSasp",
        "colab_type": "code",
        "colab": {}
      },
      "source": [
        "  \n",
        "inter_iter = 20\n",
        "rhos = np.append(np.arange(0.8, 1, 0.02, dtype = float), 0.99).round(2)\n",
        "print('#ro', len(rhos), 'rhos',  rhos)\n",
        "iterazioni=101000\n",
        "scarto = 1000\n",
        "\n",
        "\n",
        "list_servers = [i for i in range(N)]"
      ],
      "execution_count": null,
      "outputs": []
    },
    {
      "cell_type": "code",
      "metadata": {
        "id": "ToSOfvfhSe9N",
        "colab_type": "code",
        "colab": {}
      },
      "source": [
        "\n",
        "start=time.time()\n",
        "\n",
        "E_D_rho = []\n",
        "real_rho = []\n",
        "sd = []\n",
        "ci = []\n",
        "for rho in rhos:\n",
        "    print(rho, time.time()-start)\n",
        "    # evaluate beta\n",
        "    bet = beta(rho)\n",
        "    E_D = []\n",
        "    before_mean_rhos = []\n",
        "    for _ in range(inter_iter):         # this loop is for the mean\n",
        "        print(_)\n",
        "        arrivals_samples=[int(round(sample_inter_arrival(), 0)) for i in range(iterazioni)]   \n",
        "        arrival_times=list(np.cumsum(arrivals_samples))\n",
        "        arrival_times.insert(0,0)\n",
        "        E_T = np.mean(arrivals_samples)\n",
        "\n",
        "        # for each server i built a list  [[task_1, .., task_n], [time_task_1, .., time_task_n]]\n",
        "        servers = {i:[[], []] for i in range(N)}\n",
        "        servers_reale = {i:[[], []] for i in range(N)}\n",
        "        time_inside_servers = []\n",
        "        # sample processing_time w.r.t. beta(rho)\n",
        "        processing_samples=[int(round(sample_processing_time(bet), 0)) for i in range(iterazioni)]\n",
        "        E_X = np.mean(processing_samples)\n",
        "        before_mean_rhos.append(E_X/(N*E_T))\n",
        "        #print(processing_samples)\n",
        "        for i in range(iterazioni):\n",
        "            t = arrival_times[i+1] # this time\n",
        "            dt = t - arrival_times[i] # this - previous \n",
        "            for j in range(N):\n",
        "                time_goes_on_server(servers[j], dt)\n",
        "                time_goes_on_server(servers_reale[j], dt)\n",
        "            '''\n",
        "            nostro inventato\n",
        "            '''\n",
        "            shorter = shorter_queue_time_inventato(servers)\n",
        "            \n",
        "            \n",
        "\n",
        "\n",
        "            servers[shorter][0].append(i)\n",
        "            servers[shorter][1].append(processing_samples[i])\n",
        "            servers_reale[shorter][0].append(i)\n",
        "            error = processing_samples[i]*0.5\n",
        "            value = max(1, int(np.random.normal(loc = processing_samples[i], scale = error)))\n",
        "            servers_reale[shorter][1].append(value)\n",
        "            time_inside_servers.append(sum(servers_reale[shorter][1]))\n",
        "        \n",
        "        E_D.append(np.mean(time_inside_servers[scarto:]))\n",
        "        #tempo_fin = arrival_times[-1] + longest_residual_time(servers)\n",
        "    E_D_rho.append(np.mean(E_D))\n",
        "    real_rho.append(np.mean(before_mean_rhos))\n",
        "    sd.append(np.std(E_D))\n",
        "    ci.append((np.std(E_D)*1.96)/np.sqrt(len(real_rho)))\n",
        "            \n",
        "            \n",
        "print(time.time()-start)       \n",
        "\n"
      ],
      "execution_count": null,
      "outputs": []
    },
    {
      "cell_type": "code",
      "metadata": {
        "id": "ZUzp25ZHTC8y",
        "colab_type": "code",
        "colab": {}
      },
      "source": [
        "vuota = []\n",
        "for i in range(N):\n",
        "    vuota.append(sum(servers[i][1]))\n",
        "\n",
        "\n",
        "print(np.array(vuota)/ sum(vuota))\n",
        "\n",
        "\n",
        "plt.plot(real_rho,E_D_rho)\n",
        "\n"
      ],
      "execution_count": null,
      "outputs": []
    },
    {
      "cell_type": "code",
      "metadata": {
        "id": "Z3cXdSc7TIAs",
        "colab_type": "code",
        "colab": {}
      },
      "source": [
        "mean_msg = [0 for i in range(len(real_rho))]\n",
        "\n",
        "\n",
        "d  = {'Rho' : rhos, 'Mean_Time':E_D_rho,'Mean_Msg': mean_msg, 'Rho_Emp':real_rho,'CI': ci}\n",
        "df = pd.DataFrame(data=d)    \n",
        "    \n",
        "df.to_csv('nostro_con_incertezza_50.csv', index = False)\n",
        "\n",
        "\n"
      ],
      "execution_count": null,
      "outputs": []
    }
  ]
}